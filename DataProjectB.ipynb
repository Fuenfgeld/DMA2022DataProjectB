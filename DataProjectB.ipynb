{
  "nbformat": 4,
  "nbformat_minor": 0,
  "metadata": {
    "colab": {
      "name": "DataProjectB.ipynb",
      "provenance": [],
      "authorship_tag": "ABX9TyNNY7CFYyCaWeW01ZvOu1Dt",
      "include_colab_link": true
    },
    "kernelspec": {
      "name": "python3",
      "display_name": "Python 3"
    },
    "language_info": {
      "name": "python"
    }
  },
  "cells": [
    {
      "cell_type": "markdown",
      "metadata": {
        "id": "view-in-github",
        "colab_type": "text"
      },
      "source": [
        "<a href=\"https://colab.research.google.com/github/Fuenfgeld/DMA2022DataProjectB/blob/main/DataProjectB.ipynb\" target=\"_parent\"><img src=\"https://colab.research.google.com/assets/colab-badge.svg\" alt=\"Open In Colab\"/></a>"
      ]
    },
    {
      "cell_type": "code",
      "source": [
        "import pandas as pd"
      ],
      "metadata": {
        "id": "CL7jA51WTSEz"
      },
      "execution_count": 3,
      "outputs": []
    },
    {
      "cell_type": "code",
      "execution_count": 1,
      "metadata": {
        "id": "56V2w1L-NUbq"
      },
      "outputs": [],
      "source": [
        "# Patient related data.\n",
        "!wget -cq https://raw.githubusercontent.com/Fuenfgeld/DMA2022DataProjectB/main/Breast%20Cancer%20Data/Patient/conditions.csv\n",
        "!wget -cq https://raw.githubusercontent.com/Fuenfgeld/DMA2022DataProjectB/main/Breast%20Cancer%20Data/Patient/devices.csv\n",
        "!wget -cq https://raw.githubusercontent.com/Fuenfgeld/DMA2022DataProjectB/main/Breast%20Cancer%20Data/Patient/encounters.csv\n",
        "!wget -cq https://raw.githubusercontent.com/Fuenfgeld/DMA2022DataProjectB/main/Breast%20Cancer%20Data/Patient/immunizations.csv\n",
        "!wget -cq https://raw.githubusercontent.com/Fuenfgeld/DMA2022DataProjectB/main/Breast%20Cancer%20Data/Patient/medications.csv\n",
        "!wget -cq https://raw.githubusercontent.com/Fuenfgeld/DMA2022DataProjectB/main/Breast%20Cancer%20Data/Patient/observations.csv\n",
        "!wget -cq https://raw.githubusercontent.com/Fuenfgeld/DMA2022DataProjectB/main/Breast%20Cancer%20Data/Patient/patients.csv\n",
        "!wget -cq https://raw.githubusercontent.com/Fuenfgeld/DMA2022DataProjectB/main/Breast%20Cancer%20Data/Patient/procedures.csv"
      ]
    },
    {
      "cell_type": "code",
      "source": [
        "# Insurer, payer etc related data.\n",
        "!wget -cq https://raw.githubusercontent.com/Fuenfgeld/DMA2022DataProjectB/main/Breast%20Cancer%20Data/Id/organizations.csv\n",
        "!wget -cq https://raw.githubusercontent.com/Fuenfgeld/DMA2022DataProjectB/main/Breast%20Cancer%20Data/Id/payers.csv\n",
        "!wget -cq https://raw.githubusercontent.com/Fuenfgeld/DMA2022DataProjectB/main/Breast%20Cancer%20Data/Id/providers.csv"
      ],
      "metadata": {
        "id": "1JzAm3NtVqCE"
      },
      "execution_count": 12,
      "outputs": []
    },
    {
      "cell_type": "code",
      "source": [
        "# Data relating payer and patient\n",
        "!wget -cq https://raw.githubusercontent.com/Fuenfgeld/DMA2022DataProjectB/main/Breast%20Cancer%20Data/payer_transitions.csv"
      ],
      "metadata": {
        "id": "v45d3trNV6tk"
      },
      "execution_count": 13,
      "outputs": []
    },
    {
      "cell_type": "code",
      "source": [
        "conditions = pd.read_csv(\"conditions.csv\")\n",
        "devices = pd.read_csv(\"devices.csv\")\n",
        "encounters = pd.read_csv(\"encounters.csv\")\n",
        "immunizations = pd.read_csv(\"immunizations.csv\")\n",
        "medications = pd.read_csv(\"medications.csv\")\n",
        "observations = pd.read_csv(\"observations.csv\")\n",
        "patients = pd.read_csv(\"patients.csv\")\n",
        "procedures = pd.read_csv(\"procedures.csv\")"
      ],
      "metadata": {
        "id": "1WshwJ8PUHde"
      },
      "execution_count": 14,
      "outputs": []
    },
    {
      "cell_type": "code",
      "source": [
        "organizations = pd.read_csv(\"organizations.csv\")\n",
        "payers = pd.read_csv(\"payers.csv\")\n",
        "providers = pd.read_csv(\"providers.csv\")"
      ],
      "metadata": {
        "id": "FCZoya1EWRTF"
      },
      "execution_count": 15,
      "outputs": []
    },
    {
      "cell_type": "code",
      "source": [
        "payer_transitions = pd.read_csv(\"payer_transitions.csv\")"
      ],
      "metadata": {
        "id": "JcVkKNfdWbId"
      },
      "execution_count": 17,
      "outputs": []
    },
    {
      "cell_type": "code",
      "source": [
        ""
      ],
      "metadata": {
        "id": "WPqvsjrqUPSs"
      },
      "execution_count": null,
      "outputs": []
    }
  ]
}