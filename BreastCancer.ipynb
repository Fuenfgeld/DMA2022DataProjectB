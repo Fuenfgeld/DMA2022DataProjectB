{
 "cells": [
  {
   "cell_type": "markdown",
   "id": "9cb2a19a",
   "metadata": {
    "id": "9cb2a19a"
   },
   "source": [
    "# Laden die Brustkrebsdaten in die sqlite-Databenk"
   ]
  },
  {
   "cell_type": "code",
   "execution_count": null,
   "id": "6af2fc10",
   "metadata": {},
   "outputs": [],
   "source": [
    "#Laden Libraries\n",
    "import sqlite3\n",
    "import pandas as pd"
   ]
  },
  {
   "cell_type": "code",
   "execution_count": 318,
   "id": "deee0a2f",
   "metadata": {
    "colab": {
     "base_uri": "https://localhost:8080/"
    },
    "id": "deee0a2f",
    "outputId": "95f362ef-329f-483c-e523-1338cf73a063"
   },
   "outputs": [],
   "source": [
    "#Laden Libraries\n",
    "import sqlite3\n",
    "import pandas as pd"
   ]
  },
  {
   "cell_type": "code",
   "execution_count": 319,
   "id": "a9deab3b",
   "metadata": {
    "colab": {
     "base_uri": "https://localhost:8080/"
    },
    "id": "a9deab3b",
    "outputId": "85000ac1-87ad-456f-8845-e2f59b8a051d"
   },
   "outputs": [
    {
     "name": "stdout",
     "output_type": "stream",
     "text": [
      "Datenbank wurde erfolgreich geöffnet\n"
     ]
    }
   ],
   "source": [
    "# Verbindung zur Datenbank\n",
    "conn = sqlite3.connect('BreastCancerDB.db')\n",
    "cursor = conn.cursor()\n",
    "print(\"Datenbank wurde erfolgreich geöffnet\");"
   ]
  },
  {
   "cell_type": "code",
   "execution_count": 320,
   "id": "3c50fe52",
   "metadata": {
    "colab": {
     "base_uri": "https://localhost:8080/"
    },
    "id": "3c50fe52",
    "outputId": "b9871405-10d0-425c-dab3-8c422bd20ab2"
   },
   "outputs": [
    {
     "data": {
      "text/plain": [
       "<sqlite3.Cursor at 0x7fd5ba749b90>"
      ]
     },
     "execution_count": 320,
     "metadata": {},
     "output_type": "execute_result"
    }
   ],
   "source": [
    "# Löschen Tabellen wenn sie schon exestieren\n",
    "cursor.execute(\"DROP TABLE IF EXISTS patient\")\n",
    "cursor.execute(\"DROP TABLE IF EXISTS condition\")\n",
    "cursor.execute(\"DROP TABLE IF EXISTS medication\")\n",
    "cursor.execute(\"DROP TABLE IF EXISTS observation\")\n",
    "cursor.execute(\"DROP TABLE IF EXISTS procedures\")\n",
    "cursor.execute(\"DROP TABLE IF EXISTS patient_careplan\")\n",
    "cursor.execute(\"DROP TABLE IF EXISTS patient_new\")"
   ]
  },
  {
   "cell_type": "code",
   "execution_count": 321,
   "id": "b81ff71b",
   "metadata": {
    "id": "b81ff71b"
   },
   "outputs": [],
   "source": [
    "# Laden Daten\n",
    "patient = pd.read_csv('BreastCancerData/patients.csv', sep=\",\")\n",
    "condition = pd.read_csv('BreastCancerData/conditions.csv', sep=\",\")\n",
    "medication = pd.read_csv('BreastCancerData/medications.csv', sep=\",\")\n",
    "observation = pd.read_csv('BreastCancerData/observations.csv', sep=\",\")\n",
    "procedure = pd.read_csv('BreastCancerData/procedures.csv', sep=\",\")"
   ]
  },
  {
   "cell_type": "code",
   "execution_count": 322,
   "id": "f92ef57f",
   "metadata": {
    "colab": {
     "base_uri": "https://localhost:8080/"
    },
    "id": "f92ef57f",
    "outputId": "b5816be9-9711-48aa-f517-ec1d3a48295b"
   },
   "outputs": [
    {
     "data": {
      "text/plain": [
       "<sqlite3.Cursor at 0x7fd5ba749b90>"
      ]
     },
     "execution_count": 322,
     "metadata": {},
     "output_type": "execute_result"
    }
   ],
   "source": [
    "# Tabellen erstellen\n",
    "cursor.execute('''\n",
    "\t\tCREATE TABLE IF NOT EXISTS patient (\n",
    "\t\t\tId nvarchar(36) primary key,\n",
    "            BIRTHDATE Date,\n",
    "            DEATHDATE Date,\n",
    "            SSN nvarchar(50),\n",
    "            DRIVERS nvarchar(50),\n",
    "            PASSPORT nvarchar(10),\n",
    "            PREFIX nvarchar(3),\n",
    "            FIRST nvarchar(50),\n",
    "            LAST nvarchar(50),\n",
    "            SUFFIX nvarchar(50),\n",
    "            MAIDEN nvarchar(50),\n",
    "            MARITAL nvarchar(1),\n",
    "            RACE nvarchar(10),\n",
    "            ETHNICITY nvarchar(20),\n",
    "            GENDER nvarchar(2),\n",
    "            BIRTHPLACE nvarchar(50),\n",
    "            ADDRESS nvarchar(50),\n",
    "            CITY nvarchar(50),\n",
    "            STATE nvarchar(50),\n",
    "            COUNTY nvarchar(50),\n",
    "            ZIP nvarchar(4),\n",
    "            LAT nvarchar(10),\n",
    "            LON nvarchar(10),\n",
    "            HEALTHCARE_EXPENSES float,\n",
    "            HEALTHCARE_COVERAGE float\n",
    "          \n",
    "\t\t\t)\n",
    "             ''')\n",
    "\n",
    "cursor.execute('''\n",
    "\t\tCREATE TABLE IF NOT EXISTS condition (\n",
    "            START Date,\n",
    "            STOP Date,\n",
    "            PATIENT nvarchar(36),\n",
    "            ENCOUNTER nvarchar(50),\n",
    "            DESCRIPTION object,\n",
    "            CODE int,\n",
    "            foreign key(PATIENT) references patient(Id) \n",
    "\t\t\t)\n",
    "               ''')\n",
    "\n",
    "cursor.execute('''\n",
    "\t\tCREATE TABLE IF NOT EXISTS medication (\n",
    "            START nvarchar(20),\n",
    "            STOP nvarchar(20),\n",
    "            PATIENT nvarchar(36),\n",
    "            PAYER nvarchar(50),\n",
    "            ENCOUNTER nvarchar(50),\n",
    "            CODE int,\n",
    "            DESCRIPTION nvarchar(50),\n",
    "            BASE_COST float,\n",
    "            PAYER_COVERAGE float,\n",
    "            DISPENSES int,\n",
    "            TOTALCOST float,\n",
    "            REASONCODE float,\n",
    "            REASONDESCRIPTION nvarchar(50),\n",
    "            foreign key(PATIENT) references patient(Id) \n",
    "\t\t\t)\n",
    "               ''')\n",
    "\n",
    "cursor.execute('''\n",
    "\t\tCREATE TABLE IF NOT EXISTS observation (\n",
    "            DATE nvarchar(20),\n",
    "            PATIENT nvarchar(36),\n",
    "            ENCOUNTER nvarchar(50),\n",
    "            CODE int,\n",
    "            DESCRIPTION nvarchar(50),\n",
    "            VALUE float,\n",
    "            UNITS nvarchar(10),\n",
    "            TYPE nvarchar(10),\n",
    "            foreign key(PATIENT) references patient(Id) \n",
    "\t\t\t)\n",
    "               ''')\n",
    "\n",
    "cursor.execute('''\n",
    "\t\tCREATE TABLE IF NOT EXISTS procedure (\n",
    "            DATE nvarchar(20),\n",
    "            PATIENT nvarchar(36),\n",
    "            ENCOUNTER nvarchar(50),\n",
    "            CODE int,\n",
    "            DESCRIPTION nvarchar(50),\n",
    "            BASE_COST float,\n",
    "            REASONCODE float,\n",
    "            REASONDESCRIPTION nvarchar(50),\n",
    "            foreign key(PATIENT) references patient(Id) \n",
    "\t\t\t)\n",
    "               ''')\n"
   ]
  },
  {
   "cell_type": "code",
   "execution_count": 323,
   "id": "70726a76",
   "metadata": {
    "id": "70726a76"
   },
   "outputs": [],
   "source": [
    "# Einfügen der Daten in die erstellten Tabellen\n",
    "patient.to_sql('patient', conn, if_exists='append', index=False)\n",
    "condition.to_sql('condition', conn, if_exists='append', index=False)\n",
    "medication.to_sql('medication', conn, if_exists='append', index=False)\n",
    "observation.to_sql('observation', conn, if_exists='append', index=False)\n",
    "procedure.to_sql('procedure', conn, if_exists='append', index=False)"
   ]
  },
  {
   "cell_type": "markdown",
   "id": "052ef0c8",
   "metadata": {
    "id": "052ef0c8"
   },
   "source": [
    "# Sternschema erstellen"
   ]
  },
  {
   "cell_type": "markdown",
   "id": "6296687f",
   "metadata": {
    "id": "6296687f"
   },
   "source": [
    "Wir benötigen eine Faktentabelle für unsere Sternschema. Die Tabellen Patien und Condition werden als Dimensionstabellen genommen."
   ]
  },
  {
   "cell_type": "code",
   "execution_count": 324,
   "id": "37216db9",
   "metadata": {
    "colab": {
     "base_uri": "https://localhost:8080/"
    },
    "id": "37216db9",
    "outputId": "4e4537f7-fe18-4dc4-ec5a-44b97bd5db85"
   },
   "outputs": [
    {
     "data": {
      "text/plain": [
       "<sqlite3.Cursor at 0x7fd5ba749b90>"
      ]
     },
     "execution_count": 324,
     "metadata": {},
     "output_type": "execute_result"
    }
   ],
   "source": [
    "# Faktentabelle in \n",
    "cursor.execute('''\n",
    "\t\tCREATE TABLE IF NOT EXISTS patient_careplan (\n",
    "            CAREPLANT_ID INTEGER PRIMARY KEY AUTOINCREMENT,\n",
    "\t\t\tPATIENT_ID nvarchar(36),\n",
    "            CARE_TYPE nvarchar(20),\n",
    "            DESCRIPTION nvarchar(50),\n",
    "            RESON nvarchar(50),\n",
    "            ENCOUNTER nvarchar(50),\n",
    "            DATE Date,\n",
    "            foreign key(PATIENT_ID) references patient(Id) \n",
    "\t\t\t)\n",
    "             ''')"
   ]
  },
  {
   "cell_type": "code",
   "execution_count": 325,
   "id": "a7c76c0a",
   "metadata": {},
   "outputs": [
    {
     "data": {
      "text/plain": [
       "<sqlite3.Cursor at 0x7fd5ba749b90>"
      ]
     },
     "execution_count": 325,
     "metadata": {},
     "output_type": "execute_result"
    }
   ],
   "source": [
    "cursor.execute('''\n",
    "    INSERT INTO patient_careplan(PATIENT_ID,CARE_TYPE, DESCRIPTION,RESON,ENCOUNTER,DATE)\n",
    "    SELECT patient.Id as PATIENT_ID, 'Medication' as CARE_TYPE, medication.DESCRIPTION, medication.REASONCODE as RESON, medication.ENCOUNTER, medication.START as DATE\n",
    "    FROM patient \n",
    "    INNER JOIN \n",
    "    medication ON patient.Id = medication.PATIENT\n",
    "    \n",
    "    UNION\n",
    "    SELECT patient.Id as PATIENT_ID,'Observation' as CARE_TYPE, observation.DESCRIPTION, observation.CODE as RESON, observation.ENCOUNTER, observation.DATE\n",
    "    FROM patient \n",
    "    INNER JOIN \n",
    "    observation ON patient.Id = observation.PATIENT\n",
    "    \n",
    "    UNION\n",
    "    SELECT patient.Id as PATIENT_ID, 'Procedure' as CARE_TYPE, procedure.DESCRIPTION, procedure.REASONDESCRIPTION as RESON, procedure.ENCOUNTER, procedure.DATE\n",
    "    FROM patient \n",
    "    INNER JOIN \n",
    "    procedure ON patient.Id = procedure.PATIENT\n",
    "    ''')"
   ]
  },
  {
   "cell_type": "code",
   "execution_count": 326,
   "id": "c0db7533",
   "metadata": {},
   "outputs": [
    {
     "name": "stdout",
     "output_type": "stream",
     "text": [
      "       CAREPLANT_ID                            PATIENT_ID    CARE_TYPE  \\\n",
      "0                 1  009121bf-a672-8942-443e-85e18a33f766  Observation   \n",
      "1                 2  009121bf-a672-8942-443e-85e18a33f766  Observation   \n",
      "2                 3  009121bf-a672-8942-443e-85e18a33f766  Observation   \n",
      "3                 4  009121bf-a672-8942-443e-85e18a33f766  Observation   \n",
      "4                 5  009121bf-a672-8942-443e-85e18a33f766  Observation   \n",
      "...             ...                                   ...          ...   \n",
      "32718         32719  fffc77ee-b38c-41bd-2b07-ebaca114a78e  Observation   \n",
      "32719         32720  fffc77ee-b38c-41bd-2b07-ebaca114a78e  Observation   \n",
      "32720         32721  fffc77ee-b38c-41bd-2b07-ebaca114a78e  Observation   \n",
      "32721         32722  fffc77ee-b38c-41bd-2b07-ebaca114a78e  Observation   \n",
      "32722         32723  fffc77ee-b38c-41bd-2b07-ebaca114a78e  Observation   \n",
      "\n",
      "      DESCRIPTION RESON ENCOUNTER                  DATE  \n",
      "0            DALY  DALY      None  2010-05-03T23:15:24Z  \n",
      "1            DALY  DALY      None  2011-05-03T23:15:24Z  \n",
      "2            DALY  DALY      None  2012-05-03T23:15:24Z  \n",
      "3            DALY  DALY      None  2013-05-03T23:15:24Z  \n",
      "4            DALY  DALY      None  2014-05-03T23:15:24Z  \n",
      "...           ...   ...       ...                   ...  \n",
      "32718        QOLS  QOLS      None  2016-08-26T10:58:16Z  \n",
      "32719        QOLS  QOLS      None  2017-08-26T10:58:16Z  \n",
      "32720        QOLS  QOLS      None  2018-08-26T10:58:16Z  \n",
      "32721        QOLS  QOLS      None  2019-08-26T10:58:16Z  \n",
      "32722        QOLS  QOLS      None  2020-08-26T10:58:16Z  \n",
      "\n",
      "[32723 rows x 7 columns]\n"
     ]
    }
   ],
   "source": [
    "print(pd.read_sql_query('''\n",
    "     SELECT *\n",
    "     FROM patient_careplan\n",
    "     ''', conn))"
   ]
  },
  {
   "cell_type": "code",
   "execution_count": 327,
   "id": "7d27859b",
   "metadata": {},
   "outputs": [
    {
     "data": {
      "text/plain": [
       "array(['Coronary Heart Disease', 'Atrial Fibrillation', 'Cardiac Arrest',\n",
       "       'History of cardiac arrest (situation)', 'Stroke',\n",
       "       'Myocardial Infarction',\n",
       "       'History of myocardial infarction (situation)',\n",
       "       'Malignant neoplasm of breast (disorder)'], dtype=object)"
      ]
     },
     "execution_count": 327,
     "metadata": {},
     "output_type": "execute_result"
    }
   ],
   "source": [
    "condition['DESCRIPTION'].unique()"
   ]
  },
  {
   "cell_type": "code",
   "execution_count": 328,
   "id": "ac2eb56a",
   "metadata": {
    "id": "ac2eb56a"
   },
   "outputs": [],
   "source": [
    "conn.close()"
   ]
  }
 ],
 "metadata": {
  "colab": {
   "include_colab_link": true,
   "name": "Copie de BreastCancer.ipynb",
   "provenance": []
  },
  "kernelspec": {
   "display_name": "Python 3",
   "language": "python",
   "name": "python3"
  },
  "language_info": {
   "codemirror_mode": {
    "name": "ipython",
    "version": 3
   },
   "file_extension": ".py",
   "mimetype": "text/x-python",
   "name": "python",
   "nbconvert_exporter": "python",
   "pygments_lexer": "ipython3",
   "version": "3.8.8"
  }
 },
 "nbformat": 4,
 "nbformat_minor": 5
}
