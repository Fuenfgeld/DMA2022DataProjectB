{
 "cells": [
  {
   "cell_type": "markdown",
   "id": "9cb2a19a",
   "metadata": {
    "id": "9cb2a19a"
   },
   "source": [
    "# Laden der Brustkrebsdaten in die SQLite-Datenbank"
   ]
  },
  {
   "cell_type": "code",
   "execution_count": 1,
   "id": "deee0a2f",
   "metadata": {
    "colab": {
     "base_uri": "https://localhost:8080/"
    },
    "id": "deee0a2f",
    "outputId": "95f362ef-329f-483c-e523-1338cf73a063"
   },
   "outputs": [],
   "source": [
    "#Laden Libraries\n",
    "import sqlite3\n",
    "import pandas as pd"
   ]
  },
  {
   "cell_type": "code",
   "execution_count": 2,
   "id": "a9deab3b",
   "metadata": {
    "colab": {
     "base_uri": "https://localhost:8080/"
    },
    "id": "a9deab3b",
    "outputId": "85000ac1-87ad-456f-8845-e2f59b8a051d"
   },
   "outputs": [
    {
     "name": "stdout",
     "output_type": "stream",
     "text": [
      "Datenbank wurde erfolgreich geöffnet\n"
     ]
    }
   ],
   "source": [
    "# Verbindung zur Datenbank\n",
    "conn = sqlite3.connect('BreastCancerDB.db')\n",
    "cursor = conn.cursor()\n",
    "print(\"Datenbank wurde erfolgreich geöffnet\");"
   ]
  },
  {
   "cell_type": "code",
   "execution_count": 3,
   "id": "3c50fe52",
   "metadata": {
    "colab": {
     "base_uri": "https://localhost:8080/"
    },
    "id": "3c50fe52",
    "outputId": "b9871405-10d0-425c-dab3-8c422bd20ab2"
   },
   "outputs": [
    {
     "data": {
      "text/plain": [
       "<sqlite3.Cursor at 0x7fe2dccb3b90>"
      ]
     },
     "execution_count": 3,
     "metadata": {},
     "output_type": "execute_result"
    }
   ],
   "source": [
    "# Löschen Tabellen wenn sie schon exestieren\n",
    "cursor.execute(\"DROP TABLE IF EXISTS patients\")\n",
    "cursor.execute(\"DROP TABLE IF EXISTS conditions\")\n",
    "cursor.execute(\"DROP TABLE IF EXISTS medications\")\n",
    "cursor.execute(\"DROP TABLE IF EXISTS observations\")\n",
    "cursor.execute(\"DROP TABLE IF EXISTS procedures\")\n",
    "cursor.execute(\"DROP TABLE IF EXISTS patient_careplans\")\n",
    "cursor.execute(\"DROP TABLE IF EXISTS patient_conditions\")"
   ]
  },
  {
   "cell_type": "code",
   "execution_count": 4,
   "id": "b81ff71b",
   "metadata": {
    "id": "b81ff71b"
   },
   "outputs": [],
   "source": [
    "# Laden Daten\n",
    "patients = pd.read_csv('BreastCancerData/patients.csv', sep=\",\")\n",
    "conditions = pd.read_csv('BreastCancerData/conditions.csv', sep=\",\")\n",
    "medications = pd.read_csv('BreastCancerData/medications.csv', sep=\",\")\n",
    "observations = pd.read_csv('BreastCancerData/observations.csv', sep=\",\")\n",
    "procedures = pd.read_csv('BreastCancerData/procedures.csv', sep=\",\")"
   ]
  },
  {
   "cell_type": "code",
   "execution_count": 5,
   "id": "74f34ce2",
   "metadata": {},
   "outputs": [
    {
     "data": {
      "text/plain": [
       "array(['Coronary Heart Disease', 'Atrial Fibrillation', 'Cardiac Arrest',\n",
       "       'History of cardiac arrest (situation)', 'Stroke',\n",
       "       'Myocardial Infarction',\n",
       "       'History of myocardial infarction (situation)',\n",
       "       'Malignant neoplasm of breast (disorder)'], dtype=object)"
      ]
     },
     "execution_count": 5,
     "metadata": {},
     "output_type": "execute_result"
    }
   ],
   "source": [
    "conditions['DESCRIPTION'].unique()"
   ]
  },
  {
   "cell_type": "code",
   "execution_count": 6,
   "id": "f92ef57f",
   "metadata": {
    "colab": {
     "base_uri": "https://localhost:8080/"
    },
    "id": "f92ef57f",
    "outputId": "b5816be9-9711-48aa-f517-ec1d3a48295b"
   },
   "outputs": [
    {
     "data": {
      "text/plain": [
       "<sqlite3.Cursor at 0x7fe2dccb3b90>"
      ]
     },
     "execution_count": 6,
     "metadata": {},
     "output_type": "execute_result"
    }
   ],
   "source": [
    "# Tabellen erstellen\n",
    "cursor.execute('''\n",
    "\t\tCREATE TABLE IF NOT EXISTS patients (\n",
    "\t\t\tId nvarchar(36) primary key,\n",
    "            BIRTHDATE Date,\n",
    "            DEATHDATE Date,\n",
    "            SSN nvarchar(50),\n",
    "            DRIVERS nvarchar(50),\n",
    "            PASSPORT nvarchar(10),\n",
    "            PREFIX nvarchar(4),\n",
    "            FIRST nvarchar(50),\n",
    "            LAST nvarchar(50),\n",
    "            SUFFIX nvarchar(10),\n",
    "            MAIDEN nvarchar(50),\n",
    "            MARITAL nvarchar(1),\n",
    "            RACE nvarchar(10),\n",
    "            ETHNICITY nvarchar(50),\n",
    "            GENDER nvarchar(1),\n",
    "            BIRTHPLACE nvarchar(50),\n",
    "            ADDRESS nvarchar(50),\n",
    "            CITY nvarchar(50),\n",
    "            STATE nvarchar(50),\n",
    "            COUNTY nvarchar(50),\n",
    "            ZIP nvarchar(4),\n",
    "            LAT nvarchar(10),\n",
    "            LON nvarchar(10),\n",
    "            HEALTHCARE_EXPENSES float,\n",
    "            HEALTHCARE_COVERAGE float\n",
    "          \n",
    "\t\t\t)\n",
    "             ''')\n",
    "\n",
    "cursor.execute('''\n",
    "\t\tCREATE TABLE IF NOT EXISTS conditions (\n",
    "            START Date,\n",
    "            STOP Date,\n",
    "            PATIENT nvarchar(36),\n",
    "            ENCOUNTER nvarchar(50),\n",
    "            DESCRIPTION nvarchar(256),\n",
    "            CODE int,\n",
    "            foreign key(PATIENT) references patients(Id) \n",
    "\t\t\t)\n",
    "               ''')\n",
    "\n",
    "cursor.execute('''\n",
    "\t\tCREATE TABLE IF NOT EXISTS medications(\n",
    "            START nvarchar(20),\n",
    "            STOP nvarchar(20),\n",
    "            PATIENT nvarchar(36),\n",
    "            PAYER nvarchar(50),\n",
    "            ENCOUNTER nvarchar(50),\n",
    "            CODE int,\n",
    "            DESCRIPTION nvarchar(256),\n",
    "            BASE_COST float,\n",
    "            PAYER_COVERAGE float,\n",
    "            DISPENSES int,\n",
    "            TOTALCOST float,\n",
    "            REASONCODE float,\n",
    "            REASONDESCRIPTION nvarchar(50),\n",
    "            foreign key(PATIENT) references patients(Id) \n",
    "\t\t\t)\n",
    "               ''')\n",
    "\n",
    "cursor.execute('''\n",
    "\t\tCREATE TABLE IF NOT EXISTS observations (\n",
    "            DATE nvarchar(20),\n",
    "            PATIENT nvarchar(36),\n",
    "            ENCOUNTER nvarchar(50),\n",
    "            CODE int,\n",
    "            DESCRIPTION nvarchar(256),\n",
    "            VALUE float,\n",
    "            UNITS nvarchar(10),\n",
    "            TYPE nvarchar(10),\n",
    "            foreign key(PATIENT) references patients(Id) \n",
    "\t\t\t)\n",
    "               ''')\n",
    "\n",
    "cursor.execute('''\n",
    "\t\tCREATE TABLE IF NOT EXISTS procedures(\n",
    "            DATE nvarchar(20),\n",
    "            PATIENT nvarchar(36),\n",
    "            ENCOUNTER nvarchar(50),\n",
    "            CODE int,\n",
    "            DESCRIPTION nvarchar(50),\n",
    "            BASE_COST float,\n",
    "            REASONCODE float,\n",
    "            REASONDESCRIPTION nvarchar(256),\n",
    "            foreign key(PATIENT) references patients(Id) \n",
    "\t\t\t)\n",
    "               ''')"
   ]
  },
  {
   "cell_type": "code",
   "execution_count": 7,
   "id": "70726a76",
   "metadata": {
    "id": "70726a76"
   },
   "outputs": [],
   "source": [
    "# Einfügen der Daten in die erstellten Tabellen\n",
    "patients.to_sql('patients', conn, if_exists='append', index=False)\n",
    "conditions.to_sql('conditions', conn, if_exists='append', index=False)\n",
    "medications.to_sql('medications', conn, if_exists='append', index=False)\n",
    "observations.to_sql('observations', conn, if_exists='append', index=False)\n",
    "procedures.to_sql('procedures', conn, if_exists='append', index=False)"
   ]
  },
  {
   "cell_type": "markdown",
   "id": "052ef0c8",
   "metadata": {
    "id": "052ef0c8"
   },
   "source": [
    "# Sternschema erstellen"
   ]
  },
  {
   "cell_type": "markdown",
   "id": "6296687f",
   "metadata": {
    "id": "6296687f"
   },
   "source": [
    "Wir benötigen eine Faktentabelle für unsere Sternschema. Die Tabellen Patien und Condition werden als Dimensionstabellen genommen."
   ]
  },
  {
   "cell_type": "code",
   "execution_count": 8,
   "id": "66ee4ac4",
   "metadata": {},
   "outputs": [
    {
     "data": {
      "text/plain": [
       "array(['Coronary Heart Disease', 'Atrial Fibrillation', 'Cardiac Arrest',\n",
       "       'History of cardiac arrest (situation)', 'Stroke',\n",
       "       'Myocardial Infarction',\n",
       "       'History of myocardial infarction (situation)',\n",
       "       'Malignant neoplasm of breast (disorder)'], dtype=object)"
      ]
     },
     "execution_count": 8,
     "metadata": {},
     "output_type": "execute_result"
    }
   ],
   "source": [
    "conditions['DESCRIPTION'].unique()"
   ]
  },
  {
   "cell_type": "code",
   "execution_count": 9,
   "id": "37216db9",
   "metadata": {
    "colab": {
     "base_uri": "https://localhost:8080/"
    },
    "id": "37216db9",
    "outputId": "4e4537f7-fe18-4dc4-ec5a-44b97bd5db85"
   },
   "outputs": [
    {
     "data": {
      "text/plain": [
       "<sqlite3.Cursor at 0x7fe2dccb3b90>"
      ]
     },
     "execution_count": 9,
     "metadata": {},
     "output_type": "execute_result"
    }
   ],
   "source": [
    "\n",
    "\n",
    "cursor.execute('''\n",
    "\t\tCREATE TABLE IF NOT EXISTS conditions_new (\n",
    "            CONDITIONS_ID INTEGER PRIMARY KEY AUTOINCREMENT,\n",
    "            START Date,\n",
    "            STOP Date,\n",
    "            PATIENT nvarchar(36),\n",
    "            ENCOUNTER nvarchar(50),\n",
    "            DESCRIPTION nvarchar(256),\n",
    "            CODE int,\n",
    "            foreign key(PATIENT) references patients(Id) \n",
    "\t\t\t)\n",
    "               ''')             \n",
    "\n",
    "cursor.execute('''\n",
    "\t\tCREATE TABLE IF NOT EXISTS observations_new (\n",
    "            OBSERVATIONS_ID INTEGER PRIMARY KEY AUTOINCREMENT,\n",
    "            DATE nvarchar(20),\n",
    "            PATIENT nvarchar(36),\n",
    "            ENCOUNTER nvarchar(50),\n",
    "            CODE int,\n",
    "            DESCRIPTION nvarchar(256),\n",
    "            VALUE float,\n",
    "            UNITS nvarchar(10),\n",
    "            foreign key(PATIENT) references patients(Id) \n",
    "\t\t\t)\n",
    "               ''')  \n",
    "\n",
    "cursor.execute('''\n",
    "\t\tCREATE TABLE IF NOT EXISTS procedures_new(\n",
    "            PROCEDURES_ID INTEGER PRIMARY KEY AUTOINCREMENT,\n",
    "            DATE nvarchar(20),\n",
    "            PATIENT nvarchar(36),\n",
    "            ENCOUNTER nvarchar(50),\n",
    "            CODE int,\n",
    "            DESCRIPTION nvarchar(50),\n",
    "            BASE_COST float,\n",
    "            REASONCODE float,\n",
    "            REASONDESCRIPTION nvarchar(256),\n",
    "            foreign key(PATIENT) references patients(Id) \n",
    "\t\t\t)\n",
    "               ''') \n",
    "\n",
    "cursor.execute('''\n",
    "\t\tCREATE TABLE IF NOT EXISTS medications_new (\n",
    "            MEDICATIONS_ID INTEGER PRIMARY KEY AUTOINCREMENT,\n",
    "            START nvarchar(20),\n",
    "            STOP nvarchar(20),\n",
    "            PATIENT nvarchar(36),\n",
    "            PAYER nvarchar(50),\n",
    "            ENCOUNTER nvarchar(50),\n",
    "            CODE int,\n",
    "            DESCRIPTION nvarchar(256),\n",
    "            BASE_COST float,\n",
    "            PAYER_COVERAGE float,\n",
    "            DISPENSES int,\n",
    "            TOTALCOST float,\n",
    "            REASONCODE float,\n",
    "            REASONDESCRIPTION nvarchar(50),\n",
    "            foreign key(PATIENT) references patients(Id) \n",
    "\t\t\t)\n",
    "               ''')                        \n",
    "\n",
    "# Faktentabelle \n",
    "cursor.execute('''\n",
    "\t\tCREATE TABLE IF NOT EXISTS patient_careplans (\n",
    "            CAREPLANT_ID INTEGER PRIMARY KEY AUTOINCREMENT,\n",
    "\t\t\tPATIENT_ID nvarchar(36),\n",
    "            CONDITIONS_ID int,\n",
    "            CARE_TYPE nvarchar(20),\n",
    "            TABLE_ID int,\n",
    "            foreign key(PATIENT_ID) references patient(Id) \n",
    "            foreign key(CONDITIONS_ID) references conditions_new(CONDITIONS_ID)\n",
    "\t\t\t)\n",
    "             ''')             "
   ]
  },
  {
   "cell_type": "code",
   "execution_count": 10,
   "id": "0552baad",
   "metadata": {},
   "outputs": [
    {
     "data": {
      "text/plain": [
       "<sqlite3.Cursor at 0x7fe2dccb3b90>"
      ]
     },
     "execution_count": 10,
     "metadata": {},
     "output_type": "execute_result"
    }
   ],
   "source": [
    "cursor.execute('''\n",
    "    INSERT INTO conditions_new(START,STOP, PATIENT, ENCOUNTER,DESCRIPTION,CODE)\n",
    "    SELECT START,STOP, PATIENT, ENCOUNTER,DESCRIPTION,CODE\n",
    "    FROM conditions\n",
    "    ''') "
   ]
  },
  {
   "cell_type": "code",
   "execution_count": 11,
   "id": "021b8ec8",
   "metadata": {},
   "outputs": [
    {
     "data": {
      "text/plain": [
       "<sqlite3.Cursor at 0x7fe2dccb3b90>"
      ]
     },
     "execution_count": 11,
     "metadata": {},
     "output_type": "execute_result"
    }
   ],
   "source": [
    "cursor.execute('''\n",
    "    INSERT INTO observations_new(DATE, PATIENT, ENCOUNTER,CODE, DESCRIPTION, UNITS)\n",
    "    SELECT DATE, PATIENT, ENCOUNTER,CODE, DESCRIPTION, UNITS\n",
    "    FROM observations\n",
    "    ''')"
   ]
  },
  {
   "cell_type": "code",
   "execution_count": 12,
   "id": "ae32557c",
   "metadata": {},
   "outputs": [
    {
     "data": {
      "text/plain": [
       "<sqlite3.Cursor at 0x7fe2dccb3b90>"
      ]
     },
     "execution_count": 12,
     "metadata": {},
     "output_type": "execute_result"
    }
   ],
   "source": [
    "cursor.execute('''\n",
    "    INSERT INTO procedures_new(DATE, PATIENT, ENCOUNTER,CODE, DESCRIPTION, BASE_COST, REASONCODE,REASONDESCRIPTION )\n",
    "    SELECT DATE, PATIENT, ENCOUNTER,CODE, DESCRIPTION, BASE_COST, REASONCODE,REASONDESCRIPTION\n",
    "    FROM procedures\n",
    "    ''')"
   ]
  },
  {
   "cell_type": "code",
   "execution_count": 13,
   "id": "1f2d8201",
   "metadata": {},
   "outputs": [
    {
     "data": {
      "text/plain": [
       "<sqlite3.Cursor at 0x7fe2dccb3b90>"
      ]
     },
     "execution_count": 13,
     "metadata": {},
     "output_type": "execute_result"
    }
   ],
   "source": [
    "cursor.execute('''\n",
    "    INSERT INTO medications_new(START, STOP, PATIENT, PAYER, ENCOUNTER, CODE, DESCRIPTION, BASE_COST, PAYER_COVERAGE, DISPENSES, TOTALCOST, REASONCODE,REASONDESCRIPTION )\n",
    "    SELECT START, STOP, PATIENT, PAYER, ENCOUNTER, CODE, DESCRIPTION, BASE_COST, PAYER_COVERAGE, DISPENSES, TOTALCOST, REASONCODE,REASONDESCRIPTION \n",
    "    FROM medications\n",
    "    ''')\n"
   ]
  },
  {
   "cell_type": "code",
   "execution_count": 14,
   "id": "0ecb1805",
   "metadata": {},
   "outputs": [
    {
     "data": {
      "text/plain": [
       "<sqlite3.Cursor at 0x7fe2dccb3b90>"
      ]
     },
     "execution_count": 14,
     "metadata": {},
     "output_type": "execute_result"
    }
   ],
   "source": [
    "## Faktentabelle\n",
    "\n",
    "cursor.execute('''\n",
    "    INSERT INTO patient_careplans(PATIENT_ID, CONDITIONS_ID, CARE_TYPE, TABLE_ID)\n",
    "    SELECT \n",
    "    patients.Id, CONDITIONS_ID,  'Medications' as CARE_TYPE, medications_new.MEDICATIONS_ID\n",
    "    FROM patients\n",
    "    INNER JOIN \n",
    "    conditions_new on patients.Id= conditions_new.PATIENT\n",
    "    INNER JOIN\n",
    "    medications_new ON patients.Id = medications_new.PATIENT\n",
    "    \n",
    "    UNION\n",
    "\n",
    "    SELECT \n",
    "    patients.Id, CONDITIONS_ID,  'Observations' as CARE_TYPE, observations_new.OBSERVATIONS_ID\n",
    "    FROM patients\n",
    "    INNER JOIN \n",
    "    conditions_new on patients.Id= conditions_new.PATIENT\n",
    "    INNER JOIN\n",
    "    observations_new ON patients.Id =  observations_new.PATIENT\n",
    "\n",
    "    UNION\n",
    "\n",
    "    SELECT \n",
    "    patients.Id, CONDITIONS_ID,  'Procedures' as CARE_TYPE, procedures_new.PROCEDURES_ID\n",
    "    FROM patients\n",
    "    INNER JOIN \n",
    "    conditions_new on patients.Id= conditions_new.PATIENT\n",
    "    INNER JOIN\n",
    "    procedures_new ON patients.Id =  procedures_new.PATIENT\n",
    "\n",
    "    ''')"
   ]
  },
  {
   "cell_type": "code",
   "execution_count": 15,
   "id": "ac58baf0",
   "metadata": {},
   "outputs": [
    {
     "name": "stdout",
     "output_type": "stream",
     "text": [
      "      CAREPLANT_ID                            PATIENT_ID  CONDITIONS_ID  \\\n",
      "0                1  009121bf-a672-8942-443e-85e18a33f766             51   \n",
      "1                2  009121bf-a672-8942-443e-85e18a33f766             51   \n",
      "2                3  009121bf-a672-8942-443e-85e18a33f766             51   \n",
      "3                4  009121bf-a672-8942-443e-85e18a33f766             51   \n",
      "4                5  009121bf-a672-8942-443e-85e18a33f766             51   \n",
      "...            ...                                   ...            ...   \n",
      "8265          8266  fd6d5aae-f012-0e00-99bc-6668b73bf4f3             68   \n",
      "8266          8267  fd6d5aae-f012-0e00-99bc-6668b73bf4f3             68   \n",
      "8267          8268  fd6d5aae-f012-0e00-99bc-6668b73bf4f3             68   \n",
      "8268          8269  fd6d5aae-f012-0e00-99bc-6668b73bf4f3             68   \n",
      "8269          8270  fd6d5aae-f012-0e00-99bc-6668b73bf4f3             68   \n",
      "\n",
      "         CARE_TYPE  TABLE_ID  \n",
      "0     Observations      7190  \n",
      "1     Observations      7191  \n",
      "2     Observations      7192  \n",
      "3     Observations      7193  \n",
      "4     Observations      7194  \n",
      "...            ...       ...  \n",
      "8265  Observations      8872  \n",
      "8266  Observations      8873  \n",
      "8267  Observations      8874  \n",
      "8268  Observations      8875  \n",
      "8269  Observations      8876  \n",
      "\n",
      "[8270 rows x 5 columns]\n"
     ]
    }
   ],
   "source": [
    "print(pd.read_sql_query('''\n",
    "     SELECT *\n",
    "     FROM patient_careplans\n",
    "     ''', conn))"
   ]
  },
  {
   "cell_type": "code",
   "execution_count": 16,
   "id": "80454c4c",
   "metadata": {},
   "outputs": [
    {
     "name": "stdout",
     "output_type": "stream",
     "text": [
      "   CAREPLANT_ID                            PATIENT_ID  CONDITIONS_ID  \\\n",
      "0             1  009121bf-a672-8942-443e-85e18a33f766             51   \n",
      "1             2  009121bf-a672-8942-443e-85e18a33f766             51   \n",
      "2             3  009121bf-a672-8942-443e-85e18a33f766             51   \n",
      "3             4  009121bf-a672-8942-443e-85e18a33f766             51   \n",
      "4             5  009121bf-a672-8942-443e-85e18a33f766             51   \n",
      "5             6  009121bf-a672-8942-443e-85e18a33f766             51   \n",
      "6             7  009121bf-a672-8942-443e-85e18a33f766             51   \n",
      "7             8  009121bf-a672-8942-443e-85e18a33f766             51   \n",
      "8             9  009121bf-a672-8942-443e-85e18a33f766             51   \n",
      "\n",
      "      CARE_TYPE  TABLE_ID  \n",
      "0  Observations      7190  \n",
      "1  Observations      7191  \n",
      "2  Observations      7192  \n",
      "3  Observations      7193  \n",
      "4  Observations      7194  \n",
      "5  Observations      7195  \n",
      "6  Observations      7196  \n",
      "7  Observations      7197  \n",
      "8  Observations      7198  \n"
     ]
    }
   ],
   "source": [
    "print(pd.read_sql_query('''\n",
    "     SELECT *\n",
    "     FROM patient_careplans\n",
    "     WHERE CAREPLANT_ID<10\n",
    "     ''', conn))"
   ]
  },
  {
   "cell_type": "code",
   "execution_count": 17,
   "id": "c0db7533",
   "metadata": {},
   "outputs": [
    {
     "name": "stdout",
     "output_type": "stream",
     "text": [
      "      CARE_TYPE\n",
      "0   Medications\n",
      "1  Observations\n",
      "2    Procedures\n"
     ]
    }
   ],
   "source": [
    "print(pd.read_sql_query('''\n",
    "     SELECT CARE_TYPE\n",
    "     FROM patient_careplans\n",
    "     GROUP BY CARE_TYPE\n",
    "     ''', conn))"
   ]
  },
  {
   "cell_type": "code",
   "execution_count": 18,
   "id": "3285801a",
   "metadata": {},
   "outputs": [
    {
     "name": "stdout",
     "output_type": "stream",
     "text": [
      "                               PATIENT_ID    CARE_TYPE\n",
      "0    02db7f22-8617-0cf7-fa10-d820d596a81a  Medications\n",
      "1    02db7f22-8617-0cf7-fa10-d820d596a81a  Medications\n",
      "2    02db7f22-8617-0cf7-fa10-d820d596a81a  Medications\n",
      "3    02db7f22-8617-0cf7-fa10-d820d596a81a  Medications\n",
      "4    037404e1-0c87-534d-0fe2-e21ef20640f6  Medications\n",
      "..                                    ...          ...\n",
      "798  f4b7d173-38fd-e173-9242-aca2651c6b10  Medications\n",
      "799  f5a6e3b3-781d-d800-d4c3-1782e39258e8  Medications\n",
      "800  f5a6e3b3-781d-d800-d4c3-1782e39258e8  Medications\n",
      "801  f5a6e3b3-781d-d800-d4c3-1782e39258e8  Medications\n",
      "802  f5a6e3b3-781d-d800-d4c3-1782e39258e8  Medications\n",
      "\n",
      "[803 rows x 2 columns]\n"
     ]
    }
   ],
   "source": [
    "print(pd.read_sql_query('''\n",
    "     SELECT PATIENT_ID, CARE_TYPE\n",
    "     FROM patient_careplans\n",
    "     WHERE CARE_TYPE = 'Medications'\n",
    "     ''', conn))"
   ]
  },
  {
   "cell_type": "code",
   "execution_count": 19,
   "id": "ac2eb56a",
   "metadata": {
    "id": "ac2eb56a"
   },
   "outputs": [],
   "source": [
    "conn.close()"
   ]
  }
 ],
 "metadata": {
  "colab": {
   "include_colab_link": true,
   "name": "Copie de BreastCancer.ipynb",
   "provenance": []
  },
  "kernelspec": {
   "display_name": "Python 3",
   "language": "python",
   "name": "python3"
  },
  "language_info": {
   "codemirror_mode": {
    "name": "ipython",
    "version": 3
   },
   "file_extension": ".py",
   "mimetype": "text/x-python",
   "name": "python",
   "nbconvert_exporter": "python",
   "pygments_lexer": "ipython3",
   "version": "3.8.8"
  }
 },
 "nbformat": 4,
 "nbformat_minor": 5
}
