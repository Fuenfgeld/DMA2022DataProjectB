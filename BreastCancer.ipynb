{
  "cells": [
    {
      "cell_type": "markdown",
      "metadata": {
        "id": "view-in-github",
        "colab_type": "text"
      },
      "source": [
        "<a href=\"https://colab.research.google.com/github/Fuenfgeld/DMA2022DataProjectB/blob/main/BreastCancer.ipynb\" target=\"_parent\"><img src=\"https://colab.research.google.com/assets/colab-badge.svg\" alt=\"Open In Colab\"/></a>"
      ]
    },
    {
      "cell_type": "markdown",
      "id": "317ec855",
      "metadata": {
        "id": "317ec855"
      },
      "source": [
        "[![Open in Colab](https://colab.research.google.com/assets/colab-badge.svg)](https://colab.research.google.com/github/Fuenfgeld/DMA2022DataProjectB/blob/main/BreastCancer.ipynb)"
      ]
    },
    {
      "cell_type": "markdown",
      "id": "9cb2a19a",
      "metadata": {
        "id": "9cb2a19a"
      },
      "source": [
        "# Laden die Brustkrebsdaten in die sqlite-Databenk"
      ]
    },
    {
      "cell_type": "code",
      "execution_count": 1,
      "id": "deee0a2f",
      "metadata": {
        "id": "deee0a2f",
        "outputId": "214bdab6-d6ed-4ef5-80d8-61e74b70a508",
        "colab": {
          "base_uri": "https://localhost:8080/"
        }
      },
      "outputs": [
        {
          "output_type": "stream",
          "name": "stdout",
          "text": [
            "rm: cannot remove './DMA2022DataProjectB': No such file or directory\n",
            "Cloning into 'DMA2022DataProjectB'...\n",
            "remote: Enumerating objects: 87, done.\u001b[K\n",
            "remote: Counting objects: 100% (32/32), done.\u001b[K\n",
            "remote: Compressing objects: 100% (28/28), done.\u001b[K\n",
            "remote: Total 87 (delta 14), reused 13 (delta 4), pack-reused 55\u001b[K\n",
            "Unpacking objects: 100% (87/87), done.\n",
            "/content/DMA2022DataProjectB\n"
          ]
        }
      ],
      "source": [
        "#Laden Libraries\n",
        "import sqlite3\n",
        "import pandas as pd\n",
        "\n",
        "# Laden GitHub repo\n",
        "#%cd /content/\n",
        "%rm -r ./DMA2022DataProjectB\n",
        "!git clone https://github.com/Fuenfgeld/DMA2022DataProjectB.git\n",
        "    \n",
        "%cd ./DMA2022DataProjectB/"
      ]
    },
    {
      "cell_type": "code",
      "execution_count": 2,
      "id": "a9deab3b",
      "metadata": {
        "id": "a9deab3b",
        "outputId": "4d6d7aee-aced-478a-af52-ed45feb9062b",
        "colab": {
          "base_uri": "https://localhost:8080/"
        }
      },
      "outputs": [
        {
          "output_type": "stream",
          "name": "stdout",
          "text": [
            "Datenbank wurde erfolgreich geöffnet\n"
          ]
        }
      ],
      "source": [
        "# Verbindung zur Datenbank\n",
        "conn = sqlite3.connect('breast_cancer.db')\n",
        "cursor = conn.cursor()\n",
        "print(\"Datenbank wurde erfolgreich geöffnet\");"
      ]
    },
    {
      "cell_type": "code",
      "execution_count": 3,
      "id": "3c50fe52",
      "metadata": {
        "id": "3c50fe52",
        "outputId": "8e5a116b-c781-4601-cb3a-8bebf7cba0ab",
        "colab": {
          "base_uri": "https://localhost:8080/"
        }
      },
      "outputs": [
        {
          "output_type": "execute_result",
          "data": {
            "text/plain": [
              "<sqlite3.Cursor at 0x7f18d64585e0>"
            ]
          },
          "metadata": {},
          "execution_count": 3
        }
      ],
      "source": [
        "# Löschen Tabellen wenn sie schon exestieren\n",
        "cursor.execute(\"DROP TABLE IF EXISTS patient\")\n",
        "cursor.execute(\"DROP TABLE IF EXISTS condition\")\n",
        "cursor.execute(\"DROP TABLE IF EXISTS medication\")\n",
        "cursor.execute(\"DROP TABLE IF EXISTS observation\")\n",
        "cursor.execute(\"DROP TABLE IF EXISTS procedures\")"
      ]
    },
    {
      "cell_type": "code",
      "execution_count": 4,
      "id": "e8684812",
      "metadata": {
        "id": "e8684812",
        "outputId": "bfee08f2-f5e4-4dc1-babc-6ec41c05f5f3",
        "colab": {
          "base_uri": "https://localhost:8080/"
        }
      },
      "outputs": [
        {
          "output_type": "execute_result",
          "data": {
            "text/plain": [
              "<sqlite3.Cursor at 0x7f18d64585e0>"
            ]
          },
          "metadata": {},
          "execution_count": 4
        }
      ],
      "source": [
        "cursor.execute(\"DROP TABLE IF EXISTS patient_condition\")\n",
        "cursor.execute(\"DROP TABLE IF EXISTS patient_cond\")"
      ]
    },
    {
      "cell_type": "code",
      "execution_count": 5,
      "id": "b81ff71b",
      "metadata": {
        "id": "b81ff71b"
      },
      "outputs": [],
      "source": [
        "# Laden Daten\n",
        "patient = pd.read_csv('BreastCancerData/patients.csv', sep=\",\")\n",
        "condition = pd.read_csv('BreastCancerData/conditions.csv', sep=\",\")\n",
        "medication = pd.read_csv('BreastCancerData/medications.csv', sep=\",\")\n",
        "observation = pd.read_csv('BreastCancerData/observations.csv', sep=\",\")\n",
        "procedure = pd.read_csv('BreastCancerData/procedures.csv', sep=\",\")"
      ]
    },
    {
      "cell_type": "code",
      "execution_count": 6,
      "id": "f92ef57f",
      "metadata": {
        "id": "f92ef57f",
        "outputId": "00ec3f45-cabb-4382-df4b-2bf6c12f88e6",
        "colab": {
          "base_uri": "https://localhost:8080/"
        }
      },
      "outputs": [
        {
          "output_type": "execute_result",
          "data": {
            "text/plain": [
              "<sqlite3.Cursor at 0x7f18d64585e0>"
            ]
          },
          "metadata": {},
          "execution_count": 6
        }
      ],
      "source": [
        "# Tabellen erstellen\n",
        "cursor.execute('''\n",
        "\t\tCREATE TABLE IF NOT EXISTS patient (\n",
        "\t\t\tId nvarchar(36) primary key,\n",
        "            BIRTHDATE Date,\n",
        "            DEATHDATE Date,\n",
        "            SSN nvarchar(50),\n",
        "            DRIVERS nvarchar(50),\n",
        "            PASSPORT nvarchar(10),\n",
        "            PREFIX nvarchar(3),\n",
        "            FIRST nvarchar(50),\n",
        "            LAST nvarchar(50),\n",
        "            SUFFIX nvarchar(50),\n",
        "            MAIDEN nvarchar(50),\n",
        "            MARITAL nvarchar(1),\n",
        "            RACE nvarchar(10),\n",
        "            ETHNICITY nvarchar(20),\n",
        "            GENDER nvarchar(2),\n",
        "            BIRTHPLACE nvarchar(50),\n",
        "            ADDRESS nvarchar(50),\n",
        "            CITY nvarchar(50),\n",
        "            STATE nvarchar(50),\n",
        "            COUNTY nvarchar(50),\n",
        "            ZIP nvarchar(4),\n",
        "            LAT nvarchar(10),\n",
        "            LON nvarchar(10),\n",
        "            HEALTHCARE_EXPENSES float,\n",
        "            HEALTHCARE_COVERAGE float\n",
        "          \n",
        "\t\t\t)\n",
        "             ''')\n",
        "\n",
        "cursor.execute('''\n",
        "\t\tCREATE TABLE IF NOT EXISTS condition (\n",
        "            START Date,\n",
        "            STOP Date,\n",
        "            PATIENT nvarchar(36),\n",
        "            ENCOUNTER nvarchar(50),\n",
        "            DESCRIPTION nvarchar(50),\n",
        "            CODE int,\n",
        "            foreign key(PATIENT) references patient(Id) \n",
        "\t\t\t)\n",
        "               ''')\n",
        "\n",
        "cursor.execute('''\n",
        "\t\tCREATE TABLE IF NOT EXISTS medication (\n",
        "            START nvarchar(20),\n",
        "            STOP nvarchar(20),\n",
        "            PATIENT nvarchar(36),\n",
        "            PAYER nvarchar(50),\n",
        "            ENCOUNTER nvarchar(50),\n",
        "            CODE int,\n",
        "            DESCRIPTION nvarchar(50),\n",
        "            BASE_COST float,\n",
        "            PAYER_COVERAGE float,\n",
        "            DISPENSES int,\n",
        "            TOTALCOST float,\n",
        "            REASONCODE float,\n",
        "            REASONDESCRIPTION nvarchar(50),\n",
        "            foreign key(PATIENT) references patient(Id) \n",
        "\t\t\t)\n",
        "               ''')\n",
        "\n",
        "cursor.execute('''\n",
        "\t\tCREATE TABLE IF NOT EXISTS observation (\n",
        "            DATE nvarchar(20),\n",
        "            PATIENT nvarchar(36),\n",
        "            ENCOUNTER nvarchar(50),\n",
        "            CODE int,\n",
        "            DESCRIPTION nvarchar(50),\n",
        "            VALUE float,\n",
        "            UNITS nvarchar(10),\n",
        "            TYPE nvarchar(10),\n",
        "            foreign key(PATIENT) references patient(Id) \n",
        "\t\t\t)\n",
        "               ''')\n",
        "\n",
        "cursor.execute('''\n",
        "\t\tCREATE TABLE IF NOT EXISTS procedure (\n",
        "            DATE nvarchar(20),\n",
        "            PATIENT nvarchar(36),\n",
        "            ENCOUNTER nvarchar(50),\n",
        "            CODE int,\n",
        "            DESCRIPTION nvarchar(50),\n",
        "            BASE_COST float,\n",
        "            REASONCODE float,\n",
        "            REASONDESCRIPTION nvarchar(50),\n",
        "            foreign key(PATIENT) references patient(Id) \n",
        "\t\t\t)\n",
        "               ''')\n"
      ]
    },
    {
      "cell_type": "code",
      "execution_count": 7,
      "id": "70726a76",
      "metadata": {
        "id": "70726a76"
      },
      "outputs": [],
      "source": [
        "# Einfügen der Daten in die erstellten Tabellen\n",
        "patient.to_sql('patient', conn, if_exists='append', index=False)\n",
        "condition.to_sql('condition', conn, if_exists='append', index=False)\n",
        "medication.to_sql('medication', conn, if_exists='append', index=False)\n",
        "observation.to_sql('observation', conn, if_exists='append', index=False)\n",
        "procedure.to_sql('procedure', conn, if_exists='append', index=False)"
      ]
    },
    {
      "cell_type": "markdown",
      "id": "052ef0c8",
      "metadata": {
        "id": "052ef0c8"
      },
      "source": [
        "# Sternschema erstellen"
      ]
    },
    {
      "cell_type": "markdown",
      "id": "6296687f",
      "metadata": {
        "id": "6296687f"
      },
      "source": [
        "Wir benötigen eine Faktentabelle für unsere Sternschema. Alle andere Tabellen werden als Dimensionstabellen genommen."
      ]
    },
    {
      "cell_type": "code",
      "execution_count": 8,
      "id": "2169bfad",
      "metadata": {
        "id": "2169bfad",
        "outputId": "fd697a2f-7767-4204-92fe-1e753d61ecd0",
        "colab": {
          "base_uri": "https://localhost:8080/"
        }
      },
      "outputs": [
        {
          "output_type": "stream",
          "name": "stdout",
          "text": [
            "<class 'pandas.core.frame.DataFrame'>\n",
            "RangeIndex: 1019 entries, 0 to 1018\n",
            "Data columns (total 25 columns):\n",
            " #   Column               Non-Null Count  Dtype  \n",
            "---  ------               --------------  -----  \n",
            " 0   Id                   1019 non-null   object \n",
            " 1   BIRTHDATE            1019 non-null   object \n",
            " 2   DEATHDATE            19 non-null     object \n",
            " 3   SSN                  1019 non-null   object \n",
            " 4   DRIVERS              854 non-null    object \n",
            " 5   PASSPORT             803 non-null    object \n",
            " 6   PREFIX               831 non-null    object \n",
            " 7   FIRST                1019 non-null   object \n",
            " 8   LAST                 1019 non-null   object \n",
            " 9   SUFFIX               15 non-null     object \n",
            " 10  MAIDEN               280 non-null    object \n",
            " 11  MARITAL              689 non-null    object \n",
            " 12  RACE                 1019 non-null   object \n",
            " 13  ETHNICITY            1019 non-null   object \n",
            " 14  GENDER               1019 non-null   object \n",
            " 15  BIRTHPLACE           1019 non-null   object \n",
            " 16  ADDRESS              1019 non-null   object \n",
            " 17  CITY                 1019 non-null   object \n",
            " 18  STATE                1019 non-null   object \n",
            " 19  COUNTY               1019 non-null   object \n",
            " 20  ZIP                  555 non-null    float64\n",
            " 21  LAT                  1019 non-null   float64\n",
            " 22  LON                  1019 non-null   float64\n",
            " 23  HEALTHCARE_EXPENSES  1019 non-null   float64\n",
            " 24  HEALTHCARE_COVERAGE  1019 non-null   float64\n",
            "dtypes: float64(5), object(20)\n",
            "memory usage: 199.1+ KB\n"
          ]
        }
      ],
      "source": [
        "patient.info()"
      ]
    },
    {
      "cell_type": "code",
      "execution_count": 9,
      "id": "37216db9",
      "metadata": {
        "id": "37216db9",
        "outputId": "f4203ce1-fbce-4d3c-dd9a-e9539792a30e",
        "colab": {
          "base_uri": "https://localhost:8080/"
        }
      },
      "outputs": [
        {
          "output_type": "execute_result",
          "data": {
            "text/plain": [
              "<sqlite3.Cursor at 0x7f18d64585e0>"
            ]
          },
          "metadata": {},
          "execution_count": 9
        }
      ],
      "source": [
        "#zusätzliche Tabelle\n",
        "cursor.execute('''\n",
        "\t\tCREATE TABLE IF NOT EXISTS patient_cond (\n",
        "\t\t\tId nvarchar(36),\n",
        "            DESCRIPTION nvarchar(50),\n",
        "            foreign key(Id) references patient(Id) \n",
        "\t\t\t)\n",
        "             ''')\n",
        "\n"
      ]
    },
    {
      "cell_type": "code",
      "execution_count": 10,
      "id": "7d60178d",
      "metadata": {
        "id": "7d60178d"
      },
      "outputs": [],
      "source": [
        "cursor.execute('''\n",
        "    INSERT INTO patient_cond(Id,DESCRIPTION)\n",
        "    SELECT Id , DESCRIPTION\n",
        "    FROM patient\n",
        "    LEFT JOIN condition ON Id = PATIENT\n",
        "    ''')\n",
        "\n",
        "records = cursor.fetchall()\n"
      ]
    },
    {
      "cell_type": "code",
      "execution_count": 11,
      "id": "429aabb9",
      "metadata": {
        "id": "429aabb9",
        "outputId": "217cff6c-8332-47cc-fbe6-b7a7dcc22d61",
        "colab": {
          "base_uri": "https://localhost:8080/"
        }
      },
      "outputs": [
        {
          "output_type": "stream",
          "name": "stdout",
          "text": [
            "                                  PATIENT_ID             DESCRIPTION  \\\n",
            "0       d2061cc7-bee0-0e6c-3ac4-15c197c474e0  Coronary Heart Disease   \n",
            "1       d2061cc7-bee0-0e6c-3ac4-15c197c474e0  Coronary Heart Disease   \n",
            "2       d2061cc7-bee0-0e6c-3ac4-15c197c474e0  Coronary Heart Disease   \n",
            "3       d2061cc7-bee0-0e6c-3ac4-15c197c474e0  Coronary Heart Disease   \n",
            "4       d2061cc7-bee0-0e6c-3ac4-15c197c474e0  Coronary Heart Disease   \n",
            "...                                      ...                     ...   \n",
            "383381  4d6c5c28-0195-8486-66bc-787fb1bc4099                  Stroke   \n",
            "383382  4d6c5c28-0195-8486-66bc-787fb1bc4099                  Stroke   \n",
            "383383  4d6c5c28-0195-8486-66bc-787fb1bc4099                  Stroke   \n",
            "383384  4d6c5c28-0195-8486-66bc-787fb1bc4099                  Stroke   \n",
            "383385  4d6c5c28-0195-8486-66bc-787fb1bc4099                  Stroke   \n",
            "\n",
            "       REASONDESCRIPTION_med  DISPENSES_med                    DESCRIPTION  \\\n",
            "0                       None           27.0    Amlodipine 5 MG Oral Tablet   \n",
            "1                       None           27.0    Amlodipine 5 MG Oral Tablet   \n",
            "2                       None           27.0    Amlodipine 5 MG Oral Tablet   \n",
            "3                       None           27.0    Amlodipine 5 MG Oral Tablet   \n",
            "4                       None           27.0    Amlodipine 5 MG Oral Tablet   \n",
            "...                      ...            ...                            ...   \n",
            "383381                  None            1.0  Clopidogrel 75 MG Oral Tablet   \n",
            "383382                  None            1.0  Clopidogrel 75 MG Oral Tablet   \n",
            "383383                  None            1.0  Clopidogrel 75 MG Oral Tablet   \n",
            "383384                  None            1.0  Clopidogrel 75 MG Oral Tablet   \n",
            "383385                  None            1.0  Clopidogrel 75 MG Oral Tablet   \n",
            "\n",
            "       DESCRIPTION_obs REASONDESCRIPTION_proced  \\\n",
            "0                 DALY                     None   \n",
            "1                 DALY                     None   \n",
            "2                 DALY                     None   \n",
            "3                 DALY                     None   \n",
            "4                 DALY                     None   \n",
            "...                ...                      ...   \n",
            "383381            QOLS                   Stroke   \n",
            "383382            QOLS                   Stroke   \n",
            "383383            QOLS                   Stroke   \n",
            "383384            QOLS                   Stroke   \n",
            "383385            QOLS                   Stroke   \n",
            "\n",
            "                                       DESCRIPTION_proced  \n",
            "0                                                    None  \n",
            "1                                                    None  \n",
            "2                                                    None  \n",
            "3                                                    None  \n",
            "4                                                    None  \n",
            "...                                                   ...  \n",
            "383381  Percutaneous mechanical thrombectomy of portal...  \n",
            "383382                       Echocardiography (procedure)  \n",
            "383383  Percutaneous mechanical thrombectomy of portal...  \n",
            "383384                       Echocardiography (procedure)  \n",
            "383385  Percutaneous mechanical thrombectomy of portal...  \n",
            "\n",
            "[383386 rows x 8 columns]\n"
          ]
        }
      ],
      "source": [
        "# erste Variante der Schema\n",
        "print(pd.read_sql_query('''\n",
        "    SELECT patient.Id as PATIENT_ID, condition.DESCRIPTION ,medication.REASONDESCRIPTION as REASONDESCRIPTION_med ,medication.DISPENSES as DISPENSES_med, medication.DESCRIPTION,\n",
        "    observation.DESCRIPTION as DESCRIPTION_obs,\n",
        "    procedure.REASONDESCRIPTION REASONDESCRIPTION_proced,  procedure.DESCRIPTION as DESCRIPTION_proced\n",
        "    \n",
        "    FROM patient\n",
        "    INNER JOIN \n",
        "    condition ON patient.Id = condition.PATIENT\n",
        "    LEFT JOIN\n",
        "    medication ON patient.Id = medication.PATIENT \n",
        "    LEFT JOIN \n",
        "    observation ON medication.PATIENT = observation.PATIENT \n",
        "    LEFT JOIN \n",
        "    procedure ON observation.PATIENT = procedure.PATIENT\n",
        "     \n",
        "\n",
        "    ''', conn))"
      ]
    },
    {
      "cell_type": "code",
      "execution_count": 12,
      "id": "494b109d",
      "metadata": {
        "id": "494b109d",
        "outputId": "12bd02af-fdb0-4ea1-bf7d-4072d4169002",
        "colab": {
          "base_uri": "https://localhost:8080/"
        }
      },
      "outputs": [
        {
          "output_type": "stream",
          "name": "stdout",
          "text": [
            "                                        Id       Tabele DESCRIPTION RESON\n",
            "0     009121bf-a672-8942-443e-85e18a33f766   Medication        None  None\n",
            "1     009121bf-a672-8942-443e-85e18a33f766  Observation        DALY  DALY\n",
            "2     009121bf-a672-8942-443e-85e18a33f766  Observation        QALY  QALY\n",
            "3     009121bf-a672-8942-443e-85e18a33f766  Observation        QOLS  QOLS\n",
            "4     009121bf-a672-8942-443e-85e18a33f766    Procedure        None  None\n",
            "...                                    ...          ...         ...   ...\n",
            "5555  fffc77ee-b38c-41bd-2b07-ebaca114a78e   Medication        None  None\n",
            "5556  fffc77ee-b38c-41bd-2b07-ebaca114a78e  Observation        DALY  DALY\n",
            "5557  fffc77ee-b38c-41bd-2b07-ebaca114a78e  Observation        QALY  QALY\n",
            "5558  fffc77ee-b38c-41bd-2b07-ebaca114a78e  Observation        QOLS  QOLS\n",
            "5559  fffc77ee-b38c-41bd-2b07-ebaca114a78e    Procedure        None  None\n",
            "\n",
            "[5560 rows x 4 columns]\n"
          ]
        }
      ],
      "source": [
        "# zweite Variante der Schema\n",
        "print(pd.read_sql_query('''\n",
        "    SELECT patient.Id ,'Medication' AS Tabele, medication.DESCRIPTION, medication.REASONCODE as RESON \n",
        "    FROM patient \n",
        "    LEFT JOIN \n",
        "    medication ON patient.Id = medication.PATIENT\n",
        "    \n",
        "    UNION\n",
        "    SELECT patient.Id ,'Observation' AS Tabele, observation.DESCRIPTION, observation.CODE as RESON\n",
        "    FROM patient \n",
        "    LEFT JOIN \n",
        "    observation ON patient.Id = observation.PATIENT\n",
        "    \n",
        "    UNION\n",
        "    SELECT patient.Id , 'Procedure' AS Tabele, procedure.DESCRIPTION, procedure.REASONDESCRIPTION as RESON\n",
        "    FROM patient \n",
        "    LEFT JOIN \n",
        "    procedure ON patient.Id = procedure.PATIENT\n",
        "\n",
        "    ''', conn))"
      ]
    },
    {
      "cell_type": "markdown",
      "id": "08da8519",
      "metadata": {
        "id": "08da8519"
      },
      "source": [
        "Shema ist noch nicht fertig. müssen zusammen besprochen."
      ]
    },
    {
      "cell_type": "code",
      "execution_count": null,
      "id": "ac2eb56a",
      "metadata": {
        "id": "ac2eb56a"
      },
      "outputs": [],
      "source": [
        "conn.close()"
      ]
    },
    {
      "cell_type": "markdown",
      "source": [
        "# Qualitätsanalyse"
      ],
      "metadata": {
        "id": "vikkm5E3evAW"
      },
      "id": "vikkm5E3evAW"
    },
    {
      "cell_type": "code",
      "source": [
        "Datasets = [(patient,\"patients\"),\n",
        "            (procedure, \"procedures\"),\n",
        "            (condition, \"conditions\"),\n",
        "            (medication, \"medications\"),\n",
        "            (observation, \"observations\")]\n",
        "\n",
        "for df, name in Datasets:\n",
        "  print(f\"\\nPercentage of missing values in each column of {name}:\\n\")\n",
        "  print((df.isnull()\n",
        "           .sum(axis=0)\n",
        "           .divide(len(patient))\n",
        "           .round(2)\n",
        "           .sort_values(ascending=False)))"
      ],
      "metadata": {
        "colab": {
          "base_uri": "https://localhost:8080/"
        },
        "id": "3WeEKR1Se0rW",
        "outputId": "ff033edf-e427-4903-cadf-9fe5de577b0f"
      },
      "id": "3WeEKR1Se0rW",
      "execution_count": 29,
      "outputs": [
        {
          "output_type": "stream",
          "name": "stdout",
          "text": [
            "\n",
            "Percentage of missing values in each column of patients:\n",
            "\n",
            "SUFFIX                 0.99\n",
            "DEATHDATE              0.98\n",
            "MAIDEN                 0.73\n",
            "ZIP                    0.46\n",
            "MARITAL                0.32\n",
            "PASSPORT               0.21\n",
            "PREFIX                 0.18\n",
            "DRIVERS                0.16\n",
            "Id                     0.00\n",
            "ADDRESS                0.00\n",
            "HEALTHCARE_EXPENSES    0.00\n",
            "LON                    0.00\n",
            "LAT                    0.00\n",
            "COUNTY                 0.00\n",
            "STATE                  0.00\n",
            "CITY                   0.00\n",
            "RACE                   0.00\n",
            "BIRTHPLACE             0.00\n",
            "GENDER                 0.00\n",
            "ETHNICITY              0.00\n",
            "BIRTHDATE              0.00\n",
            "LAST                   0.00\n",
            "FIRST                  0.00\n",
            "SSN                    0.00\n",
            "HEALTHCARE_COVERAGE    0.00\n",
            "dtype: float64\n",
            "\n",
            "Percentage of missing values in each column of procedures:\n",
            "\n",
            "REASONCODE           0.04\n",
            "REASONDESCRIPTION    0.04\n",
            "DATE                 0.00\n",
            "PATIENT              0.00\n",
            "ENCOUNTER            0.00\n",
            "CODE                 0.00\n",
            "DESCRIPTION          0.00\n",
            "BASE_COST            0.00\n",
            "dtype: float64\n",
            "\n",
            "Percentage of missing values in each column of conditions:\n",
            "\n",
            "STOP           0.22\n",
            "START          0.00\n",
            "PATIENT        0.00\n",
            "ENCOUNTER      0.00\n",
            "CODE           0.00\n",
            "DESCRIPTION    0.00\n",
            "dtype: float64\n",
            "\n",
            "Percentage of missing values in each column of medications:\n",
            "\n",
            "REASONCODE           0.37\n",
            "REASONDESCRIPTION    0.37\n",
            "STOP                 0.23\n",
            "START                0.00\n",
            "PATIENT              0.00\n",
            "PAYER                0.00\n",
            "ENCOUNTER            0.00\n",
            "CODE                 0.00\n",
            "DESCRIPTION          0.00\n",
            "BASE_COST            0.00\n",
            "PAYER_COVERAGE       0.00\n",
            "DISPENSES            0.00\n",
            "TOTALCOST            0.00\n",
            "dtype: float64\n",
            "\n",
            "Percentage of missing values in each column of observations:\n",
            "\n",
            "ENCOUNTER      30.87\n",
            "UNITS           0.09\n",
            "DATE            0.00\n",
            "PATIENT         0.00\n",
            "CODE            0.00\n",
            "DESCRIPTION     0.00\n",
            "VALUE           0.00\n",
            "TYPE            0.00\n",
            "dtype: float64\n"
          ]
        }
      ]
    },
    {
      "cell_type": "code",
      "source": [
        "patient"
      ],
      "metadata": {
        "colab": {
          "base_uri": "https://localhost:8080/"
        },
        "id": "CD0mLEqZfuT9",
        "outputId": "092c5303-428a-4b7f-c6dd-994e70a643b7"
      },
      "id": "CD0mLEqZfuT9",
      "execution_count": 23,
      "outputs": [
        {
          "output_type": "execute_result",
          "data": {
            "text/plain": [
              "SUFFIX                 0.99\n",
              "DEATHDATE              0.98\n",
              "MAIDEN                 0.73\n",
              "ZIP                    0.46\n",
              "MARITAL                0.32\n",
              "PASSPORT               0.21\n",
              "PREFIX                 0.18\n",
              "DRIVERS                0.16\n",
              "Id                     0.00\n",
              "ADDRESS                0.00\n",
              "HEALTHCARE_EXPENSES    0.00\n",
              "LON                    0.00\n",
              "LAT                    0.00\n",
              "COUNTY                 0.00\n",
              "STATE                  0.00\n",
              "CITY                   0.00\n",
              "RACE                   0.00\n",
              "BIRTHPLACE             0.00\n",
              "GENDER                 0.00\n",
              "ETHNICITY              0.00\n",
              "BIRTHDATE              0.00\n",
              "LAST                   0.00\n",
              "FIRST                  0.00\n",
              "SSN                    0.00\n",
              "HEALTHCARE_COVERAGE    0.00\n",
              "dtype: float64"
            ]
          },
          "metadata": {},
          "execution_count": 23
        }
      ]
    },
    {
      "cell_type": "code",
      "source": [
        ""
      ],
      "metadata": {
        "id": "7n1ijVlcfxbC"
      },
      "id": "7n1ijVlcfxbC",
      "execution_count": null,
      "outputs": []
    }
  ],
  "metadata": {
    "kernelspec": {
      "display_name": "Python 3",
      "language": "python",
      "name": "python3"
    },
    "language_info": {
      "codemirror_mode": {
        "name": "ipython",
        "version": 3
      },
      "file_extension": ".py",
      "mimetype": "text/x-python",
      "name": "python",
      "nbconvert_exporter": "python",
      "pygments_lexer": "ipython3",
      "version": "3.8.8"
    },
    "colab": {
      "name": "Copie de BreastCancer.ipynb",
      "provenance": [],
      "include_colab_link": true
    }
  },
  "nbformat": 4,
  "nbformat_minor": 5
}