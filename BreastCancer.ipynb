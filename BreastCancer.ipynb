{
 "cells": [
  {
   "cell_type": "markdown",
   "id": "317ec855",
   "metadata": {},
   "source": [
    "[![Open in Colab](https://colab.research.google.com/assets/colab-badge.svg)](https://colab.research.google.com/github/Fuenfgeld/DMA2022DataProjectB/blob/main/BreastCancer.ipynb)"
   ]
  },
  {
   "cell_type": "markdown",
   "id": "9cb2a19a",
   "metadata": {},
   "source": [
    "# Laden die Brustkrebsdaten in die sqlite-Databenk"
   ]
  },
  {
   "cell_type": "code",
   "execution_count": 1,
   "id": "deee0a2f",
   "metadata": {},
   "outputs": [
    {
     "name": "stdout",
     "output_type": "stream",
     "text": [
      "rm: ./DMA2022DataProjectB: No such file or directory\n",
      "Cloning into 'DMA2022DataProjectB'...\n",
      "remote: Enumerating objects: 78, done.\u001b[K\n",
      "remote: Counting objects: 100% (23/23), done.\u001b[K\n",
      "remote: Compressing objects: 100% (18/18), done.\u001b[K\n",
      "remote: Total 78 (delta 9), reused 13 (delta 5), pack-reused 55\u001b[K\n",
      "Receiving objects: 100% (78/78), 2.07 MiB | 19.08 MiB/s, done.\n",
      "Resolving deltas: 100% (31/31), done.\n",
      "/Volumes/Macintosh HD - Data/Users/mariiarobota/My documents/Studium/Master/DAF/DMA2022DataProjectB/DMA2022DataProjectB\n"
     ]
    }
   ],
   "source": [
    "#Laden Libraries\n",
    "import sqlite3\n",
    "import pandas as pd\n",
    "\n",
    "# Laden GitHub repo\n",
    "#%cd /content/\n",
    "%rm -r ./DMA2022DataProjectB\n",
    "!git clone https://github.com/Fuenfgeld/DMA2022DataProjectB.git\n",
    "    \n",
    "%cd ./DMA2022DataProjectB/"
   ]
  },
  {
   "cell_type": "code",
   "execution_count": 2,
   "id": "a9deab3b",
   "metadata": {},
   "outputs": [
    {
     "name": "stdout",
     "output_type": "stream",
     "text": [
      "Datenbank wurde erfolgreich geöffnet\n"
     ]
    }
   ],
   "source": [
    "# Verbindung zur Datenbank\n",
    "conn = sqlite3.connect('breast_cancer.db')\n",
    "cursor = conn.cursor()\n",
    "print(\"Datenbank wurde erfolgreich geöffnet\");"
   ]
  },
  {
   "cell_type": "code",
   "execution_count": 15,
   "id": "3c50fe52",
   "metadata": {},
   "outputs": [
    {
     "data": {
      "text/plain": [
       "<sqlite3.Cursor at 0x7fb89c3718f0>"
      ]
     },
     "execution_count": 15,
     "metadata": {},
     "output_type": "execute_result"
    }
   ],
   "source": [
    "# Löschen Tabellen wenn sie schon exestieren\n",
    "cursor.execute(\"DROP TABLE IF EXISTS patient\")\n",
    "cursor.execute(\"DROP TABLE IF EXISTS condition\")\n",
    "cursor.execute(\"DROP TABLE IF EXISTS medication\")\n",
    "cursor.execute(\"DROP TABLE IF EXISTS observation\")\n",
    "cursor.execute(\"DROP TABLE IF EXISTS procedures\")"
   ]
  },
  {
   "cell_type": "code",
   "execution_count": 16,
   "id": "e8684812",
   "metadata": {},
   "outputs": [
    {
     "data": {
      "text/plain": [
       "<sqlite3.Cursor at 0x7fb89c3718f0>"
      ]
     },
     "execution_count": 16,
     "metadata": {},
     "output_type": "execute_result"
    }
   ],
   "source": [
    "cursor.execute(\"DROP TABLE IF EXISTS patient_condition\")\n",
    "cursor.execute(\"DROP TABLE IF EXISTS patient_cond\")"
   ]
  },
  {
   "cell_type": "code",
   "execution_count": 17,
   "id": "b81ff71b",
   "metadata": {},
   "outputs": [],
   "source": [
    "# Laden Daten\n",
    "patient = pd.read_csv('BreastCancerData/patients.csv', sep=\",\")\n",
    "condition = pd.read_csv('BreastCancerData/conditions.csv', sep=\",\")\n",
    "medication = pd.read_csv('BreastCancerData/medications.csv', sep=\",\")\n",
    "observation = pd.read_csv('BreastCancerData/observations.csv', sep=\",\")\n",
    "procedure = pd.read_csv('BreastCancerData/procedures.csv', sep=\",\")"
   ]
  },
  {
   "cell_type": "code",
   "execution_count": 18,
   "id": "f92ef57f",
   "metadata": {},
   "outputs": [
    {
     "data": {
      "text/plain": [
       "<sqlite3.Cursor at 0x7fb89c3718f0>"
      ]
     },
     "execution_count": 18,
     "metadata": {},
     "output_type": "execute_result"
    }
   ],
   "source": [
    "# Tabellen erstellen\n",
    "cursor.execute('''\n",
    "\t\tCREATE TABLE IF NOT EXISTS patient (\n",
    "\t\t\tId nvarchar(36) primary key,\n",
    "            BIRTHDATE Date,\n",
    "            DEATHDATE Date,\n",
    "            SSN nvarchar(50),\n",
    "            DRIVERS nvarchar(50),\n",
    "            PASSPORT nvarchar(10),\n",
    "            PREFIX nvarchar(3),\n",
    "            FIRST nvarchar(50),\n",
    "            LAST nvarchar(50),\n",
    "            SUFFIX nvarchar(50),\n",
    "            MAIDEN nvarchar(50),\n",
    "            MARITAL nvarchar(1),\n",
    "            RACE nvarchar(10),\n",
    "            ETHNICITY nvarchar(20),\n",
    "            GENDER nvarchar(2),\n",
    "            BIRTHPLACE nvarchar(50),\n",
    "            ADDRESS nvarchar(50),\n",
    "            CITY nvarchar(50),\n",
    "            STATE nvarchar(50),\n",
    "            COUNTY nvarchar(50),\n",
    "            ZIP nvarchar(4),\n",
    "            LAT nvarchar(10),\n",
    "            LON nvarchar(10),\n",
    "            HEALTHCARE_EXPENSES float,\n",
    "            HEALTHCARE_COVERAGE float\n",
    "          \n",
    "\t\t\t)\n",
    "             ''')\n",
    "\n",
    "cursor.execute('''\n",
    "\t\tCREATE TABLE IF NOT EXISTS condition (\n",
    "            START Date,\n",
    "            STOP Date,\n",
    "            PATIENT nvarchar(36),\n",
    "            ENCOUNTER nvarchar(50),\n",
    "            DESCRIPTION nvarchar(50),\n",
    "            CODE int,\n",
    "            foreign key(PATIENT) references patient(Id) \n",
    "\t\t\t)\n",
    "               ''')\n",
    "\n",
    "cursor.execute('''\n",
    "\t\tCREATE TABLE IF NOT EXISTS medication (\n",
    "            START nvarchar(20),\n",
    "            STOP nvarchar(20),\n",
    "            PATIENT nvarchar(36),\n",
    "            PAYER nvarchar(50),\n",
    "            ENCOUNTER nvarchar(50),\n",
    "            CODE int,\n",
    "            DESCRIPTION nvarchar(50),\n",
    "            BASE_COST float,\n",
    "            PAYER_COVERAGE float,\n",
    "            DISPENSES int,\n",
    "            TOTALCOST float,\n",
    "            REASONCODE float,\n",
    "            REASONDESCRIPTION nvarchar(50),\n",
    "            foreign key(PATIENT) references patient(Id) \n",
    "\t\t\t)\n",
    "               ''')\n",
    "\n",
    "cursor.execute('''\n",
    "\t\tCREATE TABLE IF NOT EXISTS observation (\n",
    "            DATE nvarchar(20),\n",
    "            PATIENT nvarchar(36),\n",
    "            ENCOUNTER nvarchar(50),\n",
    "            CODE int,\n",
    "            DESCRIPTION nvarchar(50),\n",
    "            VALUE float,\n",
    "            UNITS nvarchar(10),\n",
    "            TYPE nvarchar(10),\n",
    "            foreign key(PATIENT) references patient(Id) \n",
    "\t\t\t)\n",
    "               ''')\n",
    "\n",
    "cursor.execute('''\n",
    "\t\tCREATE TABLE IF NOT EXISTS procedure (\n",
    "            DATE nvarchar(20),\n",
    "            PATIENT nvarchar(36),\n",
    "            ENCOUNTER nvarchar(50),\n",
    "            CODE int,\n",
    "            DESCRIPTION nvarchar(50),\n",
    "            BASE_COST float,\n",
    "            REASONCODE float,\n",
    "            REASONDESCRIPTION nvarchar(50),\n",
    "            foreign key(PATIENT) references patient(Id) \n",
    "\t\t\t)\n",
    "               ''')\n"
   ]
  },
  {
   "cell_type": "code",
   "execution_count": 19,
   "id": "70726a76",
   "metadata": {},
   "outputs": [],
   "source": [
    "# Einfügen der Daten in die erstellten Tabellen\n",
    "patient.to_sql('patient', conn, if_exists='append', index=False)\n",
    "condition.to_sql('condition', conn, if_exists='append', index=False)\n",
    "medication.to_sql('medication', conn, if_exists='append', index=False)\n",
    "observation.to_sql('observation', conn, if_exists='append', index=False)\n",
    "procedure.to_sql('procedure', conn, if_exists='append', index=False)"
   ]
  },
  {
   "cell_type": "markdown",
   "id": "052ef0c8",
   "metadata": {},
   "source": [
    "# Sternschema erstellen"
   ]
  },
  {
   "cell_type": "markdown",
   "id": "6296687f",
   "metadata": {},
   "source": [
    "Wir benötigen eine Faktentabelle für unsere Sternschema. Alle andere Tabellen werden als Dimensionstabellen genommen."
   ]
  },
  {
   "cell_type": "code",
   "execution_count": 8,
   "id": "2169bfad",
   "metadata": {},
   "outputs": [
    {
     "name": "stdout",
     "output_type": "stream",
     "text": [
      "<class 'pandas.core.frame.DataFrame'>\n",
      "RangeIndex: 1019 entries, 0 to 1018\n",
      "Data columns (total 25 columns):\n",
      " #   Column               Non-Null Count  Dtype  \n",
      "---  ------               --------------  -----  \n",
      " 0   Id                   1019 non-null   object \n",
      " 1   BIRTHDATE            1019 non-null   object \n",
      " 2   DEATHDATE            19 non-null     object \n",
      " 3   SSN                  1019 non-null   object \n",
      " 4   DRIVERS              854 non-null    object \n",
      " 5   PASSPORT             803 non-null    object \n",
      " 6   PREFIX               831 non-null    object \n",
      " 7   FIRST                1019 non-null   object \n",
      " 8   LAST                 1019 non-null   object \n",
      " 9   SUFFIX               15 non-null     object \n",
      " 10  MAIDEN               280 non-null    object \n",
      " 11  MARITAL              689 non-null    object \n",
      " 12  RACE                 1019 non-null   object \n",
      " 13  ETHNICITY            1019 non-null   object \n",
      " 14  GENDER               1019 non-null   object \n",
      " 15  BIRTHPLACE           1019 non-null   object \n",
      " 16  ADDRESS              1019 non-null   object \n",
      " 17  CITY                 1019 non-null   object \n",
      " 18  STATE                1019 non-null   object \n",
      " 19  COUNTY               1019 non-null   object \n",
      " 20  ZIP                  555 non-null    float64\n",
      " 21  LAT                  1019 non-null   float64\n",
      " 22  LON                  1019 non-null   float64\n",
      " 23  HEALTHCARE_EXPENSES  1019 non-null   float64\n",
      " 24  HEALTHCARE_COVERAGE  1019 non-null   float64\n",
      "dtypes: float64(5), object(20)\n",
      "memory usage: 199.1+ KB\n"
     ]
    }
   ],
   "source": [
    "patient.info()"
   ]
  },
  {
   "cell_type": "code",
   "execution_count": 52,
   "id": "37216db9",
   "metadata": {},
   "outputs": [
    {
     "data": {
      "text/plain": [
       "<sqlite3.Cursor at 0x7fb89c3718f0>"
      ]
     },
     "execution_count": 52,
     "metadata": {},
     "output_type": "execute_result"
    }
   ],
   "source": [
    "#zusätzliche Tabelle\n",
    "cursor.execute('''\n",
    "\t\tCREATE TABLE IF NOT EXISTS patient_cond (\n",
    "\t\t\tId nvarchar(36),\n",
    "            DESCRIPTION nvarchar(50),\n",
    "            foreign key(Id) references patient(Id) \n",
    "\t\t\t)\n",
    "             ''')\n",
    "\n"
   ]
  },
  {
   "cell_type": "code",
   "execution_count": 53,
   "id": "7d60178d",
   "metadata": {},
   "outputs": [],
   "source": [
    "cursor.execute('''\n",
    "    INSERT INTO patient_cond(Id,DESCRIPTION)\n",
    "    SELECT Id , DESCRIPTION\n",
    "    FROM patient\n",
    "    LEFT JOIN condition ON Id = PATIENT\n",
    "    ''')\n",
    "\n",
    "records = cursor.fetchall()\n"
   ]
  },
  {
   "cell_type": "code",
   "execution_count": 79,
   "id": "429aabb9",
   "metadata": {},
   "outputs": [
    {
     "name": "stdout",
     "output_type": "stream",
     "text": [
      "                                  PATIENT_ID             DESCRIPTION  \\\n",
      "0       d2061cc7-bee0-0e6c-3ac4-15c197c474e0  Coronary Heart Disease   \n",
      "1       d2061cc7-bee0-0e6c-3ac4-15c197c474e0  Coronary Heart Disease   \n",
      "2       d2061cc7-bee0-0e6c-3ac4-15c197c474e0  Coronary Heart Disease   \n",
      "3       d2061cc7-bee0-0e6c-3ac4-15c197c474e0  Coronary Heart Disease   \n",
      "4       d2061cc7-bee0-0e6c-3ac4-15c197c474e0  Coronary Heart Disease   \n",
      "...                                      ...                     ...   \n",
      "762059  4d6c5c28-0195-8486-66bc-787fb1bc4099                  Stroke   \n",
      "762060  4d6c5c28-0195-8486-66bc-787fb1bc4099                  Stroke   \n",
      "762061  4d6c5c28-0195-8486-66bc-787fb1bc4099                  Stroke   \n",
      "762062  4d6c5c28-0195-8486-66bc-787fb1bc4099                  Stroke   \n",
      "762063  4d6c5c28-0195-8486-66bc-787fb1bc4099                  Stroke   \n",
      "\n",
      "       REASONDESCRIPTION_med  DISPENSES_med                    DESCRIPTION  \\\n",
      "0                       None           27.0    Amlodipine 5 MG Oral Tablet   \n",
      "1                       None           27.0    Amlodipine 5 MG Oral Tablet   \n",
      "2                       None           27.0    Amlodipine 5 MG Oral Tablet   \n",
      "3                       None           27.0    Amlodipine 5 MG Oral Tablet   \n",
      "4                       None           27.0    Amlodipine 5 MG Oral Tablet   \n",
      "...                      ...            ...                            ...   \n",
      "762059                  None            1.0  Clopidogrel 75 MG Oral Tablet   \n",
      "762060                  None            1.0  Clopidogrel 75 MG Oral Tablet   \n",
      "762061                  None            1.0  Clopidogrel 75 MG Oral Tablet   \n",
      "762062                  None            1.0  Clopidogrel 75 MG Oral Tablet   \n",
      "762063                  None            1.0  Clopidogrel 75 MG Oral Tablet   \n",
      "\n",
      "       DESCRIPTION_obs REASONDESCRIPTION_proced  \\\n",
      "0                 DALY                     None   \n",
      "1                 DALY                     None   \n",
      "2                 DALY                     None   \n",
      "3                 DALY                     None   \n",
      "4                 DALY                     None   \n",
      "...                ...                      ...   \n",
      "762059            QOLS                   Stroke   \n",
      "762060            QOLS                   Stroke   \n",
      "762061            QOLS                   Stroke   \n",
      "762062            QOLS                   Stroke   \n",
      "762063            QOLS                   Stroke   \n",
      "\n",
      "                                       DESCRIPTION_proced  \n",
      "0                                                    None  \n",
      "1                                                    None  \n",
      "2                                                    None  \n",
      "3                                                    None  \n",
      "4                                                    None  \n",
      "...                                                   ...  \n",
      "762059  Percutaneous mechanical thrombectomy of portal...  \n",
      "762060                       Echocardiography (procedure)  \n",
      "762061                       Echocardiography (procedure)  \n",
      "762062  Percutaneous mechanical thrombectomy of portal...  \n",
      "762063  Percutaneous mechanical thrombectomy of portal...  \n",
      "\n",
      "[762064 rows x 8 columns]\n"
     ]
    }
   ],
   "source": [
    "# erste Variante der Schema\n",
    "print(pd.read_sql_query('''\n",
    "    SELECT patient.Id as PATIENT_ID, condition.DESCRIPTION ,medication.REASONDESCRIPTION as REASONDESCRIPTION_med ,medication.DISPENSES as DISPENSES_med, medication.DESCRIPTION,\n",
    "    observation.DESCRIPTION as DESCRIPTION_obs,\n",
    "    procedure.REASONDESCRIPTION REASONDESCRIPTION_proced,  procedure.DESCRIPTION as DESCRIPTION_proced\n",
    "    \n",
    "    FROM patient\n",
    "    INNER JOIN \n",
    "    condition ON patient.Id = condition.PATIENT\n",
    "    LEFT JOIN\n",
    "    medication ON patient.Id = medication.PATIENT \n",
    "    LEFT JOIN \n",
    "    observation ON medication.PATIENT = observation.PATIENT \n",
    "    LEFT JOIN \n",
    "    procedure ON observation.PATIENT = procedure.PATIENT\n",
    "     \n",
    "\n",
    "    ''', conn))"
   ]
  },
  {
   "cell_type": "code",
   "execution_count": 96,
   "id": "494b109d",
   "metadata": {},
   "outputs": [
    {
     "name": "stdout",
     "output_type": "stream",
     "text": [
      "                                        Id       Tabele DESCRIPTION RESON\n",
      "0     009121bf-a672-8942-443e-85e18a33f766   Medication        None  None\n",
      "1     009121bf-a672-8942-443e-85e18a33f766  Observation        DALY  DALY\n",
      "2     009121bf-a672-8942-443e-85e18a33f766  Observation        QALY  QALY\n",
      "3     009121bf-a672-8942-443e-85e18a33f766  Observation        QOLS  QOLS\n",
      "4     009121bf-a672-8942-443e-85e18a33f766    Procedure        None  None\n",
      "...                                    ...          ...         ...   ...\n",
      "5555  fffc77ee-b38c-41bd-2b07-ebaca114a78e   Medication        None  None\n",
      "5556  fffc77ee-b38c-41bd-2b07-ebaca114a78e  Observation        DALY  DALY\n",
      "5557  fffc77ee-b38c-41bd-2b07-ebaca114a78e  Observation        QALY  QALY\n",
      "5558  fffc77ee-b38c-41bd-2b07-ebaca114a78e  Observation        QOLS  QOLS\n",
      "5559  fffc77ee-b38c-41bd-2b07-ebaca114a78e    Procedure        None  None\n",
      "\n",
      "[5560 rows x 4 columns]\n"
     ]
    }
   ],
   "source": [
    "# zweite Variante der Schema\n",
    "print(pd.read_sql_query('''\n",
    "    SELECT patient.Id ,'Medication' AS Tabele, medication.DESCRIPTION, medication.REASONCODE as RESON \n",
    "    FROM patient \n",
    "    LEFT JOIN \n",
    "    medication ON patient.Id = medication.PATIENT\n",
    "    \n",
    "    UNION\n",
    "    SELECT patient.Id ,'Observation' AS Tabele, observation.DESCRIPTION, observation.CODE as RESON\n",
    "    FROM patient \n",
    "    LEFT JOIN \n",
    "    observation ON patient.Id = observation.PATIENT\n",
    "    \n",
    "    UNION\n",
    "    SELECT patient.Id , 'Procedure' AS Tabele, procedure.DESCRIPTION, procedure.REASONDESCRIPTION as RESON\n",
    "    FROM patient \n",
    "    LEFT JOIN \n",
    "    procedure ON patient.Id = procedure.PATIENT\n",
    "\n",
    "    ''', conn))"
   ]
  },
  {
   "cell_type": "markdown",
   "id": "08da8519",
   "metadata": {},
   "source": [
    "Shema ist noch nicht fertig. müssen zusammen besprochen."
   ]
  },
  {
   "cell_type": "code",
   "execution_count": 8,
   "id": "ac2eb56a",
   "metadata": {},
   "outputs": [],
   "source": [
    "conn.close()"
   ]
  }
 ],
 "metadata": {
  "kernelspec": {
   "display_name": "Python 3",
   "language": "python",
   "name": "python3"
  },
  "language_info": {
   "codemirror_mode": {
    "name": "ipython",
    "version": 3
   },
   "file_extension": ".py",
   "mimetype": "text/x-python",
   "name": "python",
   "nbconvert_exporter": "python",
   "pygments_lexer": "ipython3",
   "version": "3.8.8"
  }
 },
 "nbformat": 4,
 "nbformat_minor": 5
}
