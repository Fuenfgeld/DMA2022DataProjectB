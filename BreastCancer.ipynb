{
 "cells": [
  {
   "cell_type": "markdown",
   "id": "9cb2a19a",
   "metadata": {
    "id": "9cb2a19a"
   },
   "source": [
    "# Laden der Brustkrebsdaten in die SQLite-Datenbank"
   ]
  },
  {
   "cell_type": "code",
   "execution_count": 74,
   "id": "deee0a2f",
   "metadata": {
    "colab": {
     "base_uri": "https://localhost:8080/"
    },
    "id": "deee0a2f",
    "outputId": "95f362ef-329f-483c-e523-1338cf73a063"
   },
   "outputs": [],
   "source": [
    "#Laden Libraries\n",
    "import sqlite3\n",
    "import pandas as pd"
   ]
  },
  {
   "cell_type": "code",
   "execution_count": 75,
   "id": "a9deab3b",
   "metadata": {
    "colab": {
     "base_uri": "https://localhost:8080/"
    },
    "id": "a9deab3b",
    "outputId": "85000ac1-87ad-456f-8845-e2f59b8a051d"
   },
   "outputs": [
    {
     "name": "stdout",
     "output_type": "stream",
     "text": [
      "Datenbank wurde erfolgreich geöffnet\n"
     ]
    }
   ],
   "source": [
    "# Verbindung zur Datenbank\n",
    "conn = sqlite3.connect('BreastCancerDB.db')\n",
    "cursor = conn.cursor()\n",
    "print(\"Datenbank wurde erfolgreich geöffnet\");"
   ]
  },
  {
   "cell_type": "code",
   "execution_count": 76,
   "id": "3c50fe52",
   "metadata": {
    "colab": {
     "base_uri": "https://localhost:8080/"
    },
    "id": "3c50fe52",
    "outputId": "b9871405-10d0-425c-dab3-8c422bd20ab2"
   },
   "outputs": [
    {
     "data": {
      "text/plain": [
       "<sqlite3.Cursor at 0x7fc9efee5420>"
      ]
     },
     "execution_count": 76,
     "metadata": {},
     "output_type": "execute_result"
    }
   ],
   "source": [
    "# Löschen Tabellen wenn sie schon exestieren\n",
    "cursor.execute(\"DROP TABLE IF EXISTS patients\")\n",
    "cursor.execute(\"DROP TABLE IF EXISTS conditions\")\n",
    "cursor.execute(\"DROP TABLE IF EXISTS medications\")\n",
    "cursor.execute(\"DROP TABLE IF EXISTS observations\")\n",
    "cursor.execute(\"DROP TABLE IF EXISTS procedures\")\n",
    "cursor.execute(\"DROP TABLE IF EXISTS patient_careplans\")\n",
    "cursor.execute(\"DROP TABLE IF EXISTS patients_new\")"
   ]
  },
  {
   "cell_type": "code",
   "execution_count": 77,
   "id": "b81ff71b",
   "metadata": {
    "id": "b81ff71b"
   },
   "outputs": [],
   "source": [
    "# Laden Daten\n",
    "patients = pd.read_csv('BreastCancerData/patients.csv', sep=\",\")\n",
    "conditions = pd.read_csv('BreastCancerData/conditions.csv', sep=\",\")\n",
    "medications = pd.read_csv('BreastCancerData/medications.csv', sep=\",\")\n",
    "observations = pd.read_csv('BreastCancerData/observations.csv', sep=\",\")\n",
    "procedures = pd.read_csv('BreastCancerData/procedures.csv', sep=\",\")"
   ]
  },
  {
   "cell_type": "code",
   "execution_count": 78,
   "id": "f92ef57f",
   "metadata": {
    "colab": {
     "base_uri": "https://localhost:8080/"
    },
    "id": "f92ef57f",
    "outputId": "b5816be9-9711-48aa-f517-ec1d3a48295b"
   },
   "outputs": [
    {
     "data": {
      "text/plain": [
       "<sqlite3.Cursor at 0x7fc9efee5420>"
      ]
     },
     "execution_count": 78,
     "metadata": {},
     "output_type": "execute_result"
    }
   ],
   "source": [
    "# Tabellen erstellen\n",
    "cursor.execute('''\n",
    "\t\tCREATE TABLE IF NOT EXISTS patients (\n",
    "\t\t\tId nvarchar(36) primary key,\n",
    "            BIRTHDATE Date,\n",
    "            DEATHDATE Date,\n",
    "            SSN nvarchar(50),\n",
    "            DRIVERS nvarchar(50),\n",
    "            PASSPORT nvarchar(10),\n",
    "            PREFIX nvarchar(4),\n",
    "            FIRST nvarchar(50),\n",
    "            LAST nvarchar(50),\n",
    "            SUFFIX nvarchar(10),\n",
    "            MAIDEN nvarchar(50),\n",
    "            MARITAL nvarchar(1),\n",
    "            RACE nvarchar(10),\n",
    "            ETHNICITY nvarchar(50),\n",
    "            GENDER nvarchar(1),\n",
    "            BIRTHPLACE nvarchar(50),\n",
    "            ADDRESS nvarchar(50),\n",
    "            CITY nvarchar(50),\n",
    "            STATE nvarchar(50),\n",
    "            COUNTY nvarchar(50),\n",
    "            ZIP nvarchar(4),\n",
    "            LAT nvarchar(10),\n",
    "            LON nvarchar(10),\n",
    "            HEALTHCARE_EXPENSES float,\n",
    "            HEALTHCARE_COVERAGE float\n",
    "          \n",
    "\t\t\t)\n",
    "             ''')\n",
    "\n",
    "cursor.execute('''\n",
    "\t\tCREATE TABLE IF NOT EXISTS conditions (\n",
    "            START Date,\n",
    "            STOP Date,\n",
    "            PATIENT nvarchar(36),\n",
    "            ENCOUNTER nvarchar(50),\n",
    "            DESCRIPTION nvarchar(256),\n",
    "            CODE int,\n",
    "            foreign key(PATIENT) references patients(Id) \n",
    "\t\t\t)\n",
    "               ''')\n",
    "\n",
    "cursor.execute('''\n",
    "\t\tCREATE TABLE IF NOT EXISTS medications(\n",
    "            START nvarchar(20),\n",
    "            STOP nvarchar(20),\n",
    "            PATIENT nvarchar(36),\n",
    "            PAYER nvarchar(50),\n",
    "            ENCOUNTER nvarchar(50),\n",
    "            CODE int,\n",
    "            DESCRIPTION nvarchar(256),\n",
    "            BASE_COST float,\n",
    "            PAYER_COVERAGE float,\n",
    "            DISPENSES int,\n",
    "            TOTALCOST float,\n",
    "            REASONCODE float,\n",
    "            REASONDESCRIPTION nvarchar(50),\n",
    "            foreign key(PATIENT) references patients(Id) \n",
    "\t\t\t)\n",
    "               ''')\n",
    "\n",
    "cursor.execute('''\n",
    "\t\tCREATE TABLE IF NOT EXISTS observations (\n",
    "            DATE nvarchar(20),\n",
    "            PATIENT nvarchar(36),\n",
    "            ENCOUNTER nvarchar(50),\n",
    "            CODE int,\n",
    "            DESCRIPTION nvarchar(256),\n",
    "            VALUE float,\n",
    "            UNITS nvarchar(10),\n",
    "            TYPE nvarchar(10),\n",
    "            foreign key(PATIENT) references patients(Id) \n",
    "\t\t\t)\n",
    "               ''')\n",
    "\n",
    "cursor.execute('''\n",
    "\t\tCREATE TABLE IF NOT EXISTS procedures(\n",
    "            DATE nvarchar(20),\n",
    "            PATIENT nvarchar(36),\n",
    "            ENCOUNTER nvarchar(50),\n",
    "            CODE int,\n",
    "            DESCRIPTION nvarchar(50),\n",
    "            BASE_COST float,\n",
    "            REASONCODE float,\n",
    "            REASONDESCRIPTION nvarchar(256),\n",
    "            foreign key(PATIENT) references patients(Id) \n",
    "\t\t\t)\n",
    "               ''')"
   ]
  },
  {
   "cell_type": "code",
   "execution_count": 79,
   "id": "70726a76",
   "metadata": {
    "id": "70726a76"
   },
   "outputs": [],
   "source": [
    "# Einfügen der Daten in die erstellten Tabellen\n",
    "patients.to_sql('patients', conn, if_exists='append', index=False)\n",
    "conditions.to_sql('conditions', conn, if_exists='append', index=False)\n",
    "medications.to_sql('medications', conn, if_exists='append', index=False)\n",
    "observations.to_sql('observations', conn, if_exists='append', index=False)\n",
    "procedures.to_sql('procedures', conn, if_exists='append', index=False)"
   ]
  },
  {
   "cell_type": "markdown",
   "id": "052ef0c8",
   "metadata": {
    "id": "052ef0c8"
   },
   "source": [
    "# Sternschema erstellen"
   ]
  },
  {
   "cell_type": "markdown",
   "id": "6296687f",
   "metadata": {
    "id": "6296687f"
   },
   "source": [
    "Wir benötigen eine Faktentabelle für unser Sternschema. Die Tabellen patients, medications, observations und procedures werden als Dimensionstabelle für das Sternschema genommen. Die neue Tabelle erhalten den Namen mit einem Präfix _new und sie werden mit den Daten aus der alten Tabellen befüllt."
   ]
  },
  {
   "cell_type": "code",
   "execution_count": 80,
   "id": "d6b97f85",
   "metadata": {},
   "outputs": [
    {
     "name": "stdout",
     "output_type": "stream",
     "text": [
      "<class 'pandas.core.frame.DataFrame'>\n",
      "RangeIndex: 1019 entries, 0 to 1018\n",
      "Data columns (total 25 columns):\n",
      " #   Column               Non-Null Count  Dtype  \n",
      "---  ------               --------------  -----  \n",
      " 0   Id                   1019 non-null   object \n",
      " 1   BIRTHDATE            1019 non-null   object \n",
      " 2   DEATHDATE            19 non-null     object \n",
      " 3   SSN                  1019 non-null   object \n",
      " 4   DRIVERS              854 non-null    object \n",
      " 5   PASSPORT             803 non-null    object \n",
      " 6   PREFIX               831 non-null    object \n",
      " 7   FIRST                1019 non-null   object \n",
      " 8   LAST                 1019 non-null   object \n",
      " 9   SUFFIX               15 non-null     object \n",
      " 10  MAIDEN               280 non-null    object \n",
      " 11  MARITAL              689 non-null    object \n",
      " 12  RACE                 1019 non-null   object \n",
      " 13  ETHNICITY            1019 non-null   object \n",
      " 14  GENDER               1019 non-null   object \n",
      " 15  BIRTHPLACE           1019 non-null   object \n",
      " 16  ADDRESS              1019 non-null   object \n",
      " 17  CITY                 1019 non-null   object \n",
      " 18  STATE                1019 non-null   object \n",
      " 19  COUNTY               1019 non-null   object \n",
      " 20  ZIP                  555 non-null    float64\n",
      " 21  LAT                  1019 non-null   float64\n",
      " 22  LON                  1019 non-null   float64\n",
      " 23  HEALTHCARE_EXPENSES  1019 non-null   float64\n",
      " 24  HEALTHCARE_COVERAGE  1019 non-null   float64\n",
      "dtypes: float64(5), object(20)\n",
      "memory usage: 199.1+ KB\n"
     ]
    }
   ],
   "source": [
    "patients.info()"
   ]
  },
  {
   "cell_type": "code",
   "execution_count": 81,
   "id": "37216db9",
   "metadata": {
    "colab": {
     "base_uri": "https://localhost:8080/"
    },
    "id": "37216db9",
    "outputId": "4e4537f7-fe18-4dc4-ec5a-44b97bd5db85"
   },
   "outputs": [
    {
     "data": {
      "text/plain": [
       "<sqlite3.Cursor at 0x7fc9efee5420>"
      ]
     },
     "execution_count": 81,
     "metadata": {},
     "output_type": "execute_result"
    }
   ],
   "source": [
    "cursor.execute('''\n",
    "\t\tCREATE TABLE IF NOT EXISTS patients_new(\n",
    "\t\t\tId nvarchar(36) primary key,\n",
    "            BIRTHDATE_YEAR Date,\n",
    "            DEATHDATE Date,\n",
    "            SSN nvarchar(50),\n",
    "            SUFFIX nvarchar(10),\n",
    "            MAIDEN nvarchar(50),\n",
    "            MARITAL nvarchar(1),\n",
    "            RACE nvarchar(10),\n",
    "            ETHNICITY nvarchar(50),\n",
    "            GENDER nvarchar(1),\n",
    "            BIRTHPLACE nvarchar(50),\n",
    "            CITY nvarchar(50),\n",
    "            STATE nvarchar(50),\n",
    "            COUNTY nvarchar(50),\n",
    "            ZIP nvarchar(4),\n",
    "            LAT nvarchar(10),\n",
    "            LON nvarchar(10),\n",
    "            HEALTHCARE_EXPENSES float,\n",
    "            HEALTHCARE_COVERAGE float\n",
    "          \n",
    "\t\t\t)\n",
    "             ''')\n",
    "\n",
    "cursor.execute('''\n",
    "\t\tCREATE TABLE IF NOT EXISTS conditions_new (\n",
    "            CONDITIONS_ID INTEGER PRIMARY KEY AUTOINCREMENT,\n",
    "            START Date,\n",
    "            STOP Date,\n",
    "            PATIENT nvarchar(36),\n",
    "            ENCOUNTER nvarchar(50),\n",
    "            DESCRIPTION nvarchar(256),\n",
    "            CODE int,\n",
    "            foreign key(PATIENT) references patients_new(Id) \n",
    "\t\t\t)\n",
    "               ''')             \n",
    "\n",
    "cursor.execute('''\n",
    "\t\tCREATE TABLE IF NOT EXISTS observations_new (\n",
    "            OBSERVATIONS_ID INTEGER PRIMARY KEY AUTOINCREMENT,\n",
    "            DATE nvarchar(20),\n",
    "            PATIENT nvarchar(36),\n",
    "            ENCOUNTER nvarchar(50),\n",
    "            CODE int,\n",
    "            DESCRIPTION nvarchar(256),\n",
    "            VALUE float,\n",
    "            UNITS nvarchar(10),\n",
    "            foreign key(PATIENT) references patients_new(Id) \n",
    "\t\t\t)\n",
    "               ''')  \n",
    "\n",
    "cursor.execute('''\n",
    "\t\tCREATE TABLE IF NOT EXISTS procedures_new(\n",
    "            PROCEDURES_ID INTEGER PRIMARY KEY AUTOINCREMENT,\n",
    "            DATE nvarchar(20),\n",
    "            PATIENT nvarchar(36),\n",
    "            ENCOUNTER nvarchar(50),\n",
    "            CODE int,\n",
    "            DESCRIPTION nvarchar(50),\n",
    "            BASE_COST float,\n",
    "            REASONCODE float,\n",
    "            REASONDESCRIPTION nvarchar(256),\n",
    "            foreign key(PATIENT) references patients_new(Id) \n",
    "\t\t\t)\n",
    "               ''') \n",
    "\n",
    "cursor.execute('''\n",
    "\t\tCREATE TABLE IF NOT EXISTS medications_new (\n",
    "            MEDICATIONS_ID INTEGER PRIMARY KEY AUTOINCREMENT,\n",
    "            START nvarchar(20),\n",
    "            STOP nvarchar(20),\n",
    "            PATIENT nvarchar(36),\n",
    "            PAYER nvarchar(50),\n",
    "            ENCOUNTER nvarchar(50),\n",
    "            CODE int,\n",
    "            DESCRIPTION nvarchar(256),\n",
    "            BASE_COST float,\n",
    "            PAYER_COVERAGE float,\n",
    "            DISPENSES int,\n",
    "            TOTALCOST float,\n",
    "            REASONCODE float,\n",
    "            REASONDESCRIPTION nvarchar(50),\n",
    "            foreign key(PATIENT) references patients_new(Id) \n",
    "\t\t\t)\n",
    "               ''')                        \n",
    "\n",
    "# Faktentabelle \n",
    "cursor.execute('''\n",
    "\t\tCREATE TABLE IF NOT EXISTS patient_careplans (\n",
    "            CAREPLANT_ID INTEGER PRIMARY KEY AUTOINCREMENT,\n",
    "\t\t\tPATIENT_ID nvarchar(36),\n",
    "            CONDITIONS_ID int,\n",
    "            CARE_TYPE nvarchar(20),\n",
    "            TABLE_ID int,\n",
    "            foreign key(PATIENT_ID) references patients_new(Id) \n",
    "            foreign key(CONDITIONS_ID) references conditions_new(CONDITIONS_ID)\n",
    "\t\t\t)\n",
    "             ''')             "
   ]
  },
  {
   "cell_type": "code",
   "execution_count": 82,
   "id": "8c1376ec",
   "metadata": {},
   "outputs": [
    {
     "data": {
      "text/plain": [
       "<sqlite3.Cursor at 0x7fc9efee5420>"
      ]
     },
     "execution_count": 82,
     "metadata": {},
     "output_type": "execute_result"
    }
   ],
   "source": [
    "cursor.execute('''\n",
    "    INSERT INTO patients_new(Id, BIRTHDATE_YEAR, DEATHDATE,SSN,SUFFIX,MAIDEN,MARITAL,RACE,ETHNICITY,GENDER,BIRTHPLACE,\n",
    "    CITY,STATE, COUNTY,ZIP, LAT,LON,HEALTHCARE_EXPENSES, HEALTHCARE_COVERAGE)\n",
    "    SELECT  Id, strftime('%Y', BIRTHDATE) as BIRTHDATE_YEAR, DEATHDATE,SSN,SUFFIX,MAIDEN,MARITAL,RACE,ETHNICITY,GENDER,BIRTHPLACE,\n",
    "    CITY,STATE, COUNTY,ZIP, LAT,LON,HEALTHCARE_EXPENSES, HEALTHCARE_COVERAGE \n",
    "    FROM patients\n",
    "    ''') "
   ]
  },
  {
   "cell_type": "code",
   "execution_count": 83,
   "id": "0552baad",
   "metadata": {},
   "outputs": [
    {
     "data": {
      "text/plain": [
       "<sqlite3.Cursor at 0x7fc9efee5420>"
      ]
     },
     "execution_count": 83,
     "metadata": {},
     "output_type": "execute_result"
    }
   ],
   "source": [
    "cursor.execute('''\n",
    "    INSERT INTO conditions_new(START,STOP, PATIENT, ENCOUNTER,DESCRIPTION,CODE)\n",
    "    SELECT START,STOP, PATIENT, ENCOUNTER,DESCRIPTION,CODE\n",
    "    FROM conditions\n",
    "    ''') "
   ]
  },
  {
   "cell_type": "code",
   "execution_count": 84,
   "id": "021b8ec8",
   "metadata": {},
   "outputs": [
    {
     "data": {
      "text/plain": [
       "<sqlite3.Cursor at 0x7fc9efee5420>"
      ]
     },
     "execution_count": 84,
     "metadata": {},
     "output_type": "execute_result"
    }
   ],
   "source": [
    "cursor.execute('''\n",
    "    INSERT INTO observations_new(DATE, PATIENT, ENCOUNTER,CODE, DESCRIPTION, UNITS)\n",
    "    SELECT DATE, PATIENT, ENCOUNTER,CODE, DESCRIPTION, UNITS\n",
    "    FROM observations\n",
    "    ''')"
   ]
  },
  {
   "cell_type": "code",
   "execution_count": 85,
   "id": "ae32557c",
   "metadata": {},
   "outputs": [
    {
     "data": {
      "text/plain": [
       "<sqlite3.Cursor at 0x7fc9efee5420>"
      ]
     },
     "execution_count": 85,
     "metadata": {},
     "output_type": "execute_result"
    }
   ],
   "source": [
    "cursor.execute('''\n",
    "    INSERT INTO procedures_new(DATE, PATIENT, ENCOUNTER,CODE, DESCRIPTION, BASE_COST, REASONCODE,REASONDESCRIPTION )\n",
    "    SELECT DATE, PATIENT, ENCOUNTER,CODE, DESCRIPTION, BASE_COST, REASONCODE,REASONDESCRIPTION\n",
    "    FROM procedures\n",
    "    ''')"
   ]
  },
  {
   "cell_type": "code",
   "execution_count": 86,
   "id": "1f2d8201",
   "metadata": {},
   "outputs": [
    {
     "data": {
      "text/plain": [
       "<sqlite3.Cursor at 0x7fc9efee5420>"
      ]
     },
     "execution_count": 86,
     "metadata": {},
     "output_type": "execute_result"
    }
   ],
   "source": [
    "cursor.execute('''\n",
    "    INSERT INTO medications_new(START, STOP, PATIENT, PAYER, ENCOUNTER, CODE, DESCRIPTION, BASE_COST, PAYER_COVERAGE, DISPENSES, TOTALCOST, REASONCODE,REASONDESCRIPTION )\n",
    "    SELECT START, STOP, PATIENT, PAYER, ENCOUNTER, CODE, DESCRIPTION, BASE_COST, PAYER_COVERAGE, DISPENSES, TOTALCOST, REASONCODE,REASONDESCRIPTION \n",
    "    FROM medications\n",
    "    ''')\n"
   ]
  },
  {
   "cell_type": "code",
   "execution_count": 87,
   "id": "9a0a8d36",
   "metadata": {},
   "outputs": [
    {
     "name": "stdout",
     "output_type": "stream",
     "text": [
      "                                        Id  BIRTHDATE_YEAR DEATHDATE  \\\n",
      "0     d2061cc7-bee0-0e6c-3ac4-15c197c474e0            1956      None   \n",
      "1     073d8e80-ff90-1c8d-57e4-29bfca52c87f            1964      None   \n",
      "2     e1ff7e68-4097-9faf-514d-e4cfcfdf252e            1998      None   \n",
      "3     a0f679cc-875f-dd72-ed13-9ca863ec6cf3            2004      None   \n",
      "4     e4166a9c-f7c5-bef7-ea43-b96281a2d586            2006      None   \n",
      "...                                    ...             ...       ...   \n",
      "1014  2a41a25a-bb37-04db-4bd6-5a52474e309a            1991      None   \n",
      "1015  a8bea34f-a8d3-f5e2-93d1-5e2e52307251            1952      None   \n",
      "1016  8e1abff8-cf2e-ed15-1e93-753b6f2578ea            2002      None   \n",
      "1017  f98799f2-c4da-761d-f3ac-5fac8e8fc8bc            1979      None   \n",
      "1018  4d6c5c28-0195-8486-66bc-787fb1bc4099            1917      None   \n",
      "\n",
      "              SSN SUFFIX         MAIDEN MARITAL   RACE    ETHNICITY GENDER  \\\n",
      "0     999-51-6528   None           None       M  white  nonhispanic      M   \n",
      "1     999-90-4728   None  Williamson769       M  white  nonhispanic      F   \n",
      "2     999-82-3645   None           None    None  white  nonhispanic      F   \n",
      "3     999-93-6431   None           None    None  asian  nonhispanic      M   \n",
      "4     999-11-8697   None           None    None  black     hispanic      M   \n",
      "...           ...    ...            ...     ...    ...          ...    ...   \n",
      "1014  999-69-4089   None           None       M  white  nonhispanic      M   \n",
      "1015  999-94-5072   None   Cummerata161       M  white  nonhispanic      F   \n",
      "1016  999-24-8062   None           None    None  white  nonhispanic      F   \n",
      "1017  999-30-4844   None           None       M  asian  nonhispanic      M   \n",
      "1018  999-59-1679   None           None       S  white  nonhispanic      F   \n",
      "\n",
      "                            BIRTHPLACE              CITY          STATE  \\\n",
      "0         Worcester  Massachusetts  US         Cambridge  Massachusetts   \n",
      "1        Somerville  Massachusetts  US  North Brookfield  Massachusetts   \n",
      "2      Williamstown  Massachusetts  US         Worcester  Massachusetts   \n",
      "3     New Braintree  Massachusetts  US          Weymouth  Massachusetts   \n",
      "4            Canton  Massachusetts  US         Worcester  Massachusetts   \n",
      "...                                ...               ...            ...   \n",
      "1014     Greenfield  Massachusetts  US           Ipswich  Massachusetts   \n",
      "1015     Leominster  Massachusetts  US          Plymouth  Massachusetts   \n",
      "1016         Groton  Massachusetts  US         Westfield  Massachusetts   \n",
      "1017      Cambridge  Massachusetts  US            Boston  Massachusetts   \n",
      "1018           Lynn  Massachusetts  US            Ludlow  Massachusetts   \n",
      "\n",
      "                COUNTY     ZIP               LAT                LON  \\\n",
      "0     Middlesex County  2140.0  42.3599258693738  -71.1132602493522   \n",
      "1     Worcester County  1535.0  42.2578454695593  -72.0263168046048   \n",
      "2     Worcester County  1545.0  42.2042896741379  -71.8184488503781   \n",
      "3       Norfolk County    None  42.1502697356251  -70.9040840603542   \n",
      "4     Worcester County  1609.0  42.2920819230455  -71.7848731723721   \n",
      "...                ...     ...               ...                ...   \n",
      "1014      Essex County    None  42.6848919964873  -70.7981993479418   \n",
      "1015   Plymouth County    None  41.9439961674774  -70.6496274713283   \n",
      "1016    Hampden County  1086.0   42.104044278009  -72.7103108613134   \n",
      "1017    Suffolk County  2115.0  42.3404204319876  -70.9521401189763   \n",
      "1018    Hampden County    None  42.1937253676636  -72.5063851031816   \n",
      "\n",
      "      HEALTHCARE_EXPENSES  HEALTHCARE_COVERAGE  \n",
      "0              1475230.00              4244.64  \n",
      "1              1489125.00              4016.36  \n",
      "2                57142.44              2103.20  \n",
      "3               408520.00              2709.00  \n",
      "4               320400.00              2970.68  \n",
      "...                   ...                  ...  \n",
      "1014            711495.00              2508.96  \n",
      "1015           1574295.00              4567.12  \n",
      "1016             55660.00              2827.32  \n",
      "1017            845600.00              2120.60  \n",
      "1018           1525140.00             13607.51  \n",
      "\n",
      "[1019 rows x 19 columns]\n"
     ]
    }
   ],
   "source": [
    "print(pd.read_sql_query('''\n",
    "     SELECT *\n",
    "     FROM patients_new\n",
    "     ''', conn))"
   ]
  },
  {
   "cell_type": "code",
   "execution_count": 88,
   "id": "0ecb1805",
   "metadata": {},
   "outputs": [
    {
     "data": {
      "text/plain": [
       "<sqlite3.Cursor at 0x7fc9efee5420>"
      ]
     },
     "execution_count": 88,
     "metadata": {},
     "output_type": "execute_result"
    }
   ],
   "source": [
    "## Faktentabelle\n",
    "\n",
    "cursor.execute('''\n",
    "    INSERT INTO patient_careplans(PATIENT_ID, CONDITIONS_ID, CARE_TYPE, TABLE_ID)\n",
    "    SELECT \n",
    "    patients_new.Id, CONDITIONS_ID,  'Medications' as CARE_TYPE, medications_new.MEDICATIONS_ID\n",
    "    FROM patients_new\n",
    "    INNER JOIN \n",
    "    conditions_new on patients_new.Id = conditions_new.PATIENT\n",
    "    INNER JOIN\n",
    "    medications_new ON patients_new.Id = medications_new.PATIENT\n",
    "    \n",
    "    UNION\n",
    "\n",
    "    SELECT \n",
    "    patients_new.Id, CONDITIONS_ID,  'Observations' as CARE_TYPE, observations_new.OBSERVATIONS_ID\n",
    "    FROM patients_new\n",
    "    INNER JOIN \n",
    "    conditions_new on patients_new.Id = conditions_new.PATIENT\n",
    "    INNER JOIN\n",
    "    observations_new ON patients_new.Id =  observations_new.PATIENT\n",
    "\n",
    "    UNION\n",
    "\n",
    "    SELECT \n",
    "    patients_new.Id, CONDITIONS_ID,  'Procedures' as CARE_TYPE, procedures_new.PROCEDURES_ID\n",
    "    FROM patients_new\n",
    "    INNER JOIN \n",
    "    conditions_new on patients_new.Id = conditions_new.PATIENT\n",
    "    INNER JOIN\n",
    "    procedures_new ON patients_new.Id =  procedures_new.PATIENT\n",
    "\n",
    "    ''')"
   ]
  },
  {
   "cell_type": "code",
   "execution_count": 89,
   "id": "ac58baf0",
   "metadata": {},
   "outputs": [
    {
     "name": "stdout",
     "output_type": "stream",
     "text": [
      "       CAREPLANT_ID                            PATIENT_ID  CONDITIONS_ID  \\\n",
      "0                 1  009121bf-a672-8942-443e-85e18a33f766             51   \n",
      "1                 2  009121bf-a672-8942-443e-85e18a33f766             51   \n",
      "2                 3  009121bf-a672-8942-443e-85e18a33f766             51   \n",
      "3                 4  009121bf-a672-8942-443e-85e18a33f766             51   \n",
      "4                 5  009121bf-a672-8942-443e-85e18a33f766             51   \n",
      "...             ...                                   ...            ...   \n",
      "74425         74426  fd6d5aae-f012-0e00-99bc-6668b73bf4f3            512   \n",
      "74426         74427  fd6d5aae-f012-0e00-99bc-6668b73bf4f3            512   \n",
      "74427         74428  fd6d5aae-f012-0e00-99bc-6668b73bf4f3            512   \n",
      "74428         74429  fd6d5aae-f012-0e00-99bc-6668b73bf4f3            512   \n",
      "74429         74430  fd6d5aae-f012-0e00-99bc-6668b73bf4f3            512   \n",
      "\n",
      "          CARE_TYPE  TABLE_ID  \n",
      "0      Observations      7190  \n",
      "1      Observations      7191  \n",
      "2      Observations      7192  \n",
      "3      Observations      7193  \n",
      "4      Observations      7194  \n",
      "...             ...       ...  \n",
      "74425  Observations     71982  \n",
      "74426  Observations     71983  \n",
      "74427  Observations     71984  \n",
      "74428  Observations     71985  \n",
      "74429  Observations     71986  \n",
      "\n",
      "[74430 rows x 5 columns]\n"
     ]
    }
   ],
   "source": [
    "print(pd.read_sql_query('''\n",
    "     SELECT *\n",
    "     FROM patient_careplans\n",
    "     ''', conn))"
   ]
  },
  {
   "cell_type": "code",
   "execution_count": 90,
   "id": "80454c4c",
   "metadata": {},
   "outputs": [
    {
     "name": "stdout",
     "output_type": "stream",
     "text": [
      "   CAREPLANT_ID                            PATIENT_ID  CONDITIONS_ID  \\\n",
      "0             1  009121bf-a672-8942-443e-85e18a33f766             51   \n",
      "1             2  009121bf-a672-8942-443e-85e18a33f766             51   \n",
      "2             3  009121bf-a672-8942-443e-85e18a33f766             51   \n",
      "3             4  009121bf-a672-8942-443e-85e18a33f766             51   \n",
      "4             5  009121bf-a672-8942-443e-85e18a33f766             51   \n",
      "5             6  009121bf-a672-8942-443e-85e18a33f766             51   \n",
      "6             7  009121bf-a672-8942-443e-85e18a33f766             51   \n",
      "7             8  009121bf-a672-8942-443e-85e18a33f766             51   \n",
      "8             9  009121bf-a672-8942-443e-85e18a33f766             51   \n",
      "\n",
      "      CARE_TYPE  TABLE_ID  \n",
      "0  Observations      7190  \n",
      "1  Observations      7191  \n",
      "2  Observations      7192  \n",
      "3  Observations      7193  \n",
      "4  Observations      7194  \n",
      "5  Observations      7195  \n",
      "6  Observations      7196  \n",
      "7  Observations      7197  \n",
      "8  Observations      7198  \n"
     ]
    }
   ],
   "source": [
    "print(pd.read_sql_query('''\n",
    "     SELECT *\n",
    "     FROM patient_careplans\n",
    "     WHERE CAREPLANT_ID<10\n",
    "     ''', conn))"
   ]
  },
  {
   "cell_type": "code",
   "execution_count": 91,
   "id": "c0db7533",
   "metadata": {},
   "outputs": [
    {
     "name": "stdout",
     "output_type": "stream",
     "text": [
      "      CARE_TYPE\n",
      "0   Medications\n",
      "1  Observations\n",
      "2    Procedures\n"
     ]
    }
   ],
   "source": [
    "print(pd.read_sql_query('''\n",
    "     SELECT CARE_TYPE\n",
    "     FROM patient_careplans\n",
    "     GROUP BY CARE_TYPE\n",
    "     ''', conn))"
   ]
  },
  {
   "cell_type": "code",
   "execution_count": 92,
   "id": "3285801a",
   "metadata": {},
   "outputs": [
    {
     "name": "stdout",
     "output_type": "stream",
     "text": [
      "                                PATIENT_ID    CARE_TYPE\n",
      "0     02db7f22-8617-0cf7-fa10-d820d596a81a  Medications\n",
      "1     02db7f22-8617-0cf7-fa10-d820d596a81a  Medications\n",
      "2     02db7f22-8617-0cf7-fa10-d820d596a81a  Medications\n",
      "3     02db7f22-8617-0cf7-fa10-d820d596a81a  Medications\n",
      "4     02db7f22-8617-0cf7-fa10-d820d596a81a  Medications\n",
      "...                                    ...          ...\n",
      "7222  f5a6e3b3-781d-d800-d4c3-1782e39258e8  Medications\n",
      "7223  f5a6e3b3-781d-d800-d4c3-1782e39258e8  Medications\n",
      "7224  f5a6e3b3-781d-d800-d4c3-1782e39258e8  Medications\n",
      "7225  f5a6e3b3-781d-d800-d4c3-1782e39258e8  Medications\n",
      "7226  f5a6e3b3-781d-d800-d4c3-1782e39258e8  Medications\n",
      "\n",
      "[7227 rows x 2 columns]\n"
     ]
    }
   ],
   "source": [
    "print(pd.read_sql_query('''\n",
    "     SELECT PATIENT_ID, CARE_TYPE\n",
    "     FROM patient_careplans\n",
    "     WHERE CARE_TYPE = 'Medications'\n",
    "     ''', conn))"
   ]
  },
  {
   "cell_type": "code",
   "execution_count": 93,
   "id": "ac2eb56a",
   "metadata": {
    "id": "ac2eb56a"
   },
   "outputs": [],
   "source": [
    "conn.close()"
   ]
  }
 ],
 "metadata": {
  "colab": {
   "include_colab_link": true,
   "name": "Copie de BreastCancer.ipynb",
   "provenance": []
  },
  "kernelspec": {
   "display_name": "Python 3",
   "language": "python",
   "name": "python3"
  },
  "language_info": {
   "codemirror_mode": {
    "name": "ipython",
    "version": 3
   },
   "file_extension": ".py",
   "mimetype": "text/x-python",
   "name": "python",
   "nbconvert_exporter": "python",
   "pygments_lexer": "ipython3",
   "version": "3.8.8"
  }
 },
 "nbformat": 4,
 "nbformat_minor": 5
}
