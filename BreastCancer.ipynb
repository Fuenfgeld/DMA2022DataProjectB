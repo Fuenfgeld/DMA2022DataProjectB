{
 "cells": [
  {
   "cell_type": "markdown",
   "id": "317ec855",
   "metadata": {},
   "source": [
    "[![Open in Colab](https://colab.research.google.com/assets/colab-badge.svg)](https://colab.research.google.com/github/Fuenfgeld/DMA2022DataProjectB/blob/main/BreastCancer.ipynb)"
   ]
  },
  {
   "cell_type": "markdown",
   "id": "9cb2a19a",
   "metadata": {},
   "source": [
    "# Laden die Brustkrebs in die sqlite-Databenk"
   ]
  },
  {
   "cell_type": "code",
   "execution_count": 1,
   "id": "deee0a2f",
   "metadata": {},
   "outputs": [
    {
     "name": "stdout",
     "output_type": "stream",
     "text": [
      "rm: ./DMA2022DataProjectB: No such file or directory\n",
      "Cloning into 'DMA2022DataProjectB'...\n",
      "remote: Enumerating objects: 75, done.\u001b[K\n",
      "remote: Counting objects: 100% (20/20), done.\u001b[K\n",
      "remote: Compressing objects: 100% (17/17), done.\u001b[K\n",
      "remote: Total 75 (delta 8), reused 9 (delta 3), pack-reused 55\u001b[K\n",
      "Receiving objects: 100% (75/75), 2.07 MiB | 13.22 MiB/s, done.\n",
      "Resolving deltas: 100% (30/30), done.\n",
      "/Volumes/Macintosh HD - Data/Users/mariiarobota/My documents/Studium/Master/DAF/DMA2022DataProjectB/DMA2022DataProjectB\n"
     ]
    }
   ],
   "source": [
    "#Laden Libraries\n",
    "import sqlite3\n",
    "import pandas as pd\n",
    "\n",
    "# Laden GitHub repo\n",
    "#%cd /content/\n",
    "%rm -r ./DMA2022DataProjectB\n",
    "!git clone https://github.com/Fuenfgeld/DMA2022DataProjectB.git\n",
    "    \n",
    "%cd ./DMA2022DataProjectB/"
   ]
  },
  {
   "cell_type": "code",
   "execution_count": 2,
   "id": "a9deab3b",
   "metadata": {},
   "outputs": [
    {
     "name": "stdout",
     "output_type": "stream",
     "text": [
      "Opened database successfully\n"
     ]
    }
   ],
   "source": [
    "# Verbindung zur Datenbank\n",
    "conn = sqlite3.connect('breast_cancer.db')\n",
    "cursor = conn.cursor()\n",
    "print(\"Opened database successfully\");"
   ]
  },
  {
   "cell_type": "code",
   "execution_count": 3,
   "id": "3c50fe52",
   "metadata": {},
   "outputs": [
    {
     "data": {
      "text/plain": [
       "<sqlite3.Cursor at 0x7f7ef1fa7f10>"
      ]
     },
     "execution_count": 3,
     "metadata": {},
     "output_type": "execute_result"
    }
   ],
   "source": [
    "# Löschen Tabellen wenn sie schon exestieren\n",
    "cursor.execute(\"DROP TABLE IF EXISTS patient\")\n",
    "cursor.execute(\"DROP TABLE IF EXISTS condition\")\n",
    "cursor.execute(\"DROP TABLE IF EXISTS medication\")\n",
    "cursor.execute(\"DROP TABLE IF EXISTS observation\")\n",
    "cursor.execute(\"DROP TABLE IF EXISTS procedures\")"
   ]
  },
  {
   "cell_type": "code",
   "execution_count": 4,
   "id": "b81ff71b",
   "metadata": {},
   "outputs": [],
   "source": [
    "# Laden Daten\n",
    "patient = pd.read_csv('BreastCancerData/patients.csv', sep=\",\")\n",
    "condition = pd.read_csv('BreastCancerData/conditions.csv', sep=\",\")\n",
    "medication = pd.read_csv('BreastCancerData/medications.csv', sep=\",\")\n",
    "observation = pd.read_csv('BreastCancerData/observations.csv', sep=\",\")\n",
    "procedure = pd.read_csv('BreastCancerData/procedures.csv', sep=\",\")"
   ]
  },
  {
   "cell_type": "code",
   "execution_count": 5,
   "id": "3f4bb83e",
   "metadata": {},
   "outputs": [
    {
     "data": {
      "text/plain": [
       "<sqlite3.Cursor at 0x7f7ef1fa7f10>"
      ]
     },
     "execution_count": 5,
     "metadata": {},
     "output_type": "execute_result"
    }
   ],
   "source": [
    "# Tabellen erstellen\n",
    "cursor.execute('''\n",
    "\t\tCREATE TABLE IF NOT EXISTS patient (\n",
    "\t\t\tId nvarchar(36) primary key,\n",
    "            BIRTHDATE Date,\n",
    "            DEATHDATE Date,\n",
    "            SSN nvarchar(50),\n",
    "            DRIVERS nvarchar(50),\n",
    "            PASSPORT nvarchar(10),\n",
    "            PREFIX nvarchar(3),\n",
    "            FIRST nvarchar(50),\n",
    "            LAST nvarchar(50),\n",
    "            SUFFIX nvarchar(50),\n",
    "            MAIDEN nvarchar(50),\n",
    "            MARITAL nvarchar(1),\n",
    "            RACE nvarchar(10),\n",
    "            ETHNICITY nvarchar(20),\n",
    "            GENDER nvarchar(2),\n",
    "            BIRTHPLACE nvarchar(50),\n",
    "            ADDRESS nvarchar(50),\n",
    "            CITY nvarchar(50),\n",
    "            STATE nvarchar(50),\n",
    "            COUNTY nvarchar(50),\n",
    "            ZIP nvarchar(4),\n",
    "            LAT nvarchar(10),\n",
    "            LON nvarchar(10),\n",
    "            HEALTHCARE_EXPENSES float,\n",
    "            HEALTHCARE_COVERAGE float\n",
    "            \n",
    "\t\t\t)\n",
    "             ''')\n",
    "\n",
    "cursor.execute('''\n",
    "\t\tCREATE TABLE IF NOT EXISTS condition (\n",
    "            START Date,\n",
    "            STOP Date,\n",
    "            PATIENT int,\n",
    "            ENCOUNTER nvarchar(50),\n",
    "            DESCRIPTION nvarchar(50),\n",
    "            CODE int,\n",
    "            foreign key(PATIENT) references patient(Id) \n",
    "\t\t\t)\n",
    "               ''')\n",
    "\n",
    "cursor.execute('''\n",
    "\t\tCREATE TABLE IF NOT EXISTS medication (\n",
    "            START nvarchar(20),\n",
    "            STOP nvarchar(20),\n",
    "            PATIENT int,\n",
    "            PAYER nvarchar(50),\n",
    "            ENCOUNTER nvarchar(50),\n",
    "            CODE int,\n",
    "            DESCRIPTION nvarchar(50),\n",
    "            BASE_COST float,\n",
    "            PAYER_COVERAGE float,\n",
    "            DISPENSES int,\n",
    "            TOTALCOST float,\n",
    "            REASONCODE float,\n",
    "            REASONDESCRIPTION nvarchar(50),\n",
    "            foreign key(PATIENT) references patient(Id) \n",
    "\t\t\t)\n",
    "               ''')\n",
    "\n",
    "cursor.execute('''\n",
    "\t\tCREATE TABLE IF NOT EXISTS observation (\n",
    "            DATE nvarchar(20),\n",
    "            PATIENT int,\n",
    "            ENCOUNTER nvarchar(50),\n",
    "            CODE int,\n",
    "            DESCRIPTION nvarchar(50),\n",
    "            VALUE float,\n",
    "            UNITS nvarchar(10),\n",
    "            TYPE nvarchar(10),\n",
    "            foreign key(PATIENT) references patient(Id) \n",
    "\t\t\t)\n",
    "               ''')\n",
    "\n",
    "cursor.execute('''\n",
    "\t\tCREATE TABLE IF NOT EXISTS procedure (\n",
    "            DATE nvarchar(20),\n",
    "            PATIENT int,\n",
    "            ENCOUNTER nvarchar(50),\n",
    "            CODE int,\n",
    "            DESCRIPTION nvarchar(50),\n",
    "            BASE_COST float,\n",
    "            REASONCODE float,\n",
    "            REASONDESCRIPTION nvarchar(50),\n",
    "            foreign key(PATIENT) references patient(Id) \n",
    "\t\t\t)\n",
    "               ''')\n"
   ]
  },
  {
   "cell_type": "code",
   "execution_count": 6,
   "id": "feef4b2f",
   "metadata": {},
   "outputs": [],
   "source": [
    "#insert data into table\n",
    "patient.to_sql('patient', conn, if_exists='append', index=False)\n",
    "condition.to_sql('condition', conn, if_exists='append', index=False)\n",
    "medication.to_sql('medication', conn, if_exists='append', index=False)\n",
    "observation.to_sql('observation', conn, if_exists='append', index=False)\n",
    "procedure.to_sql('procedure', conn, if_exists='append', index=False)"
   ]
  },
  {
   "cell_type": "code",
   "execution_count": 7,
   "id": "51c5c3cb",
   "metadata": {},
   "outputs": [
    {
     "name": "stdout",
     "output_type": "stream",
     "text": [
      "<class 'pandas.core.frame.DataFrame'>\n",
      "RangeIndex: 746 entries, 0 to 745\n",
      "Data columns (total 8 columns):\n",
      " #   Column             Non-Null Count  Dtype  \n",
      "---  ------             --------------  -----  \n",
      " 0   DATE               746 non-null    object \n",
      " 1   PATIENT            746 non-null    object \n",
      " 2   ENCOUNTER          746 non-null    object \n",
      " 3   CODE               746 non-null    int64  \n",
      " 4   DESCRIPTION        746 non-null    object \n",
      " 5   BASE_COST          746 non-null    float64\n",
      " 6   REASONCODE         710 non-null    float64\n",
      " 7   REASONDESCRIPTION  710 non-null    object \n",
      "dtypes: float64(2), int64(1), object(5)\n",
      "memory usage: 46.8+ KB\n"
     ]
    }
   ],
   "source": [
    "procedure.info()"
   ]
  },
  {
   "cell_type": "code",
   "execution_count": 8,
   "id": "879c9eb2",
   "metadata": {},
   "outputs": [],
   "source": [
    "conn.close()"
   ]
  }
 ],
 "metadata": {
  "kernelspec": {
   "display_name": "Python 3",
   "language": "python",
   "name": "python3"
  },
  "language_info": {
   "codemirror_mode": {
    "name": "ipython",
    "version": 3
   },
   "file_extension": ".py",
   "mimetype": "text/x-python",
   "name": "python",
   "nbconvert_exporter": "python",
   "pygments_lexer": "ipython3",
   "version": "3.8.8"
  }
 },
 "nbformat": 4,
 "nbformat_minor": 5
}
