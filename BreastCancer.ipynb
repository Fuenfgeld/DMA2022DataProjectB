{
 "cells": [
  {
   "cell_type": "markdown",
   "id": "9cb2a19a",
   "metadata": {
    "id": "9cb2a19a"
   },
   "source": [
    "# Laden der Brustkrebsdaten in die SQLite-Datenbank"
   ]
  },
  {
   "cell_type": "code",
   "execution_count": 481,
   "id": "deee0a2f",
   "metadata": {
    "colab": {
     "base_uri": "https://localhost:8080/"
    },
    "id": "deee0a2f",
    "outputId": "95f362ef-329f-483c-e523-1338cf73a063"
   },
   "outputs": [],
   "source": [
    "#Laden Libraries\n",
    "import sqlite3\n",
    "import pandas as pd"
   ]
  },
  {
   "cell_type": "code",
   "execution_count": 482,
   "id": "a9deab3b",
   "metadata": {
    "colab": {
     "base_uri": "https://localhost:8080/"
    },
    "id": "a9deab3b",
    "outputId": "85000ac1-87ad-456f-8845-e2f59b8a051d"
   },
   "outputs": [
    {
     "name": "stdout",
     "output_type": "stream",
     "text": [
      "Datenbank wurde erfolgreich geöffnet\n"
     ]
    }
   ],
   "source": [
    "# Verbindung zur Datenbank\n",
    "conn = sqlite3.connect('BreastCancerDB.db')\n",
    "cursor = conn.cursor()\n",
    "print(\"Datenbank wurde erfolgreich geöffnet\");"
   ]
  },
  {
   "cell_type": "code",
   "execution_count": 483,
   "id": "3c50fe52",
   "metadata": {
    "colab": {
     "base_uri": "https://localhost:8080/"
    },
    "id": "3c50fe52",
    "outputId": "b9871405-10d0-425c-dab3-8c422bd20ab2"
   },
   "outputs": [
    {
     "data": {
      "text/plain": [
       "<sqlite3.Cursor at 0x7fd56e03ba40>"
      ]
     },
     "execution_count": 483,
     "metadata": {},
     "output_type": "execute_result"
    }
   ],
   "source": [
    "# Löschen Tabellen wenn sie schon exestieren\n",
    "cursor.execute(\"DROP TABLE IF EXISTS patient\")\n",
    "cursor.execute(\"DROP TABLE IF EXISTS condition\")\n",
    "cursor.execute(\"DROP TABLE IF EXISTS medication\")\n",
    "cursor.execute(\"DROP TABLE IF EXISTS observation\")\n",
    "cursor.execute(\"DROP TABLE IF EXISTS procedures\")\n",
    "cursor.execute(\"DROP TABLE IF EXISTS patient_careplan\")\n",
    "cursor.execute(\"DROP TABLE IF EXISTS patient_condition\")"
   ]
  },
  {
   "cell_type": "code",
   "execution_count": 484,
   "id": "b81ff71b",
   "metadata": {
    "id": "b81ff71b"
   },
   "outputs": [],
   "source": [
    "# Laden Daten\n",
    "patient = pd.read_csv('BreastCancerData/patients.csv', sep=\",\")\n",
    "condition = pd.read_csv('BreastCancerData/conditions.csv', sep=\",\")\n",
    "medication = pd.read_csv('BreastCancerData/medications.csv', sep=\",\")\n",
    "observation = pd.read_csv('BreastCancerData/observations.csv', sep=\",\")\n",
    "procedure = pd.read_csv('BreastCancerData/procedures.csv', sep=\",\")"
   ]
  },
  {
   "cell_type": "code",
   "execution_count": 485,
   "id": "f92ef57f",
   "metadata": {
    "colab": {
     "base_uri": "https://localhost:8080/"
    },
    "id": "f92ef57f",
    "outputId": "b5816be9-9711-48aa-f517-ec1d3a48295b"
   },
   "outputs": [
    {
     "data": {
      "text/plain": [
       "<sqlite3.Cursor at 0x7fd56e03ba40>"
      ]
     },
     "execution_count": 485,
     "metadata": {},
     "output_type": "execute_result"
    }
   ],
   "source": [
    "# Tabellen erstellen\n",
    "cursor.execute('''\n",
    "\t\tCREATE TABLE IF NOT EXISTS patient (\n",
    "\t\t\tId nvarchar(36) primary key,\n",
    "            BIRTHDATE Date,\n",
    "            DEATHDATE Date,\n",
    "            SSN nvarchar(50),\n",
    "            DRIVERS nvarchar(50),\n",
    "            PASSPORT nvarchar(10),\n",
    "            PREFIX nvarchar(3),\n",
    "            FIRST nvarchar(50),\n",
    "            LAST nvarchar(50),\n",
    "            SUFFIX nvarchar(50),\n",
    "            MAIDEN nvarchar(50),\n",
    "            MARITAL nvarchar(1),\n",
    "            RACE nvarchar(10),\n",
    "            ETHNICITY nvarchar(20),\n",
    "            GENDER nvarchar(2),\n",
    "            BIRTHPLACE nvarchar(50),\n",
    "            ADDRESS nvarchar(50),\n",
    "            CITY nvarchar(50),\n",
    "            STATE nvarchar(50),\n",
    "            COUNTY nvarchar(50),\n",
    "            ZIP nvarchar(4),\n",
    "            LAT nvarchar(10),\n",
    "            LON nvarchar(10),\n",
    "            HEALTHCARE_EXPENSES float,\n",
    "            HEALTHCARE_COVERAGE float\n",
    "          \n",
    "\t\t\t)\n",
    "             ''')\n",
    "\n",
    "cursor.execute('''\n",
    "\t\tCREATE TABLE IF NOT EXISTS condition (\n",
    "            START Date,\n",
    "            STOP Date,\n",
    "            PATIENT nvarchar(36),\n",
    "            ENCOUNTER nvarchar(50),\n",
    "            DESCRIPTION object,\n",
    "            CODE int,\n",
    "            foreign key(PATIENT) references patient(Id) \n",
    "\t\t\t)\n",
    "               ''')\n",
    "\n",
    "cursor.execute('''\n",
    "\t\tCREATE TABLE IF NOT EXISTS medication (\n",
    "            START nvarchar(20),\n",
    "            STOP nvarchar(20),\n",
    "            PATIENT nvarchar(36),\n",
    "            PAYER nvarchar(50),\n",
    "            ENCOUNTER nvarchar(50),\n",
    "            CODE int,\n",
    "            DESCRIPTION nvarchar(50),\n",
    "            BASE_COST float,\n",
    "            PAYER_COVERAGE float,\n",
    "            DISPENSES int,\n",
    "            TOTALCOST float,\n",
    "            REASONCODE float,\n",
    "            REASONDESCRIPTION nvarchar(50),\n",
    "            foreign key(PATIENT) references patient(Id) \n",
    "\t\t\t)\n",
    "               ''')\n",
    "\n",
    "cursor.execute('''\n",
    "\t\tCREATE TABLE IF NOT EXISTS observation (\n",
    "            DATE nvarchar(20),\n",
    "            PATIENT nvarchar(36),\n",
    "            ENCOUNTER nvarchar(50),\n",
    "            CODE int,\n",
    "            DESCRIPTION nvarchar(50),\n",
    "            VALUE float,\n",
    "            UNITS nvarchar(10),\n",
    "            TYPE nvarchar(10),\n",
    "            foreign key(PATIENT) references patient(Id) \n",
    "\t\t\t)\n",
    "               ''')\n",
    "\n",
    "cursor.execute('''\n",
    "\t\tCREATE TABLE IF NOT EXISTS procedure (\n",
    "            DATE nvarchar(20),\n",
    "            PATIENT nvarchar(36),\n",
    "            ENCOUNTER nvarchar(50),\n",
    "            CODE int,\n",
    "            DESCRIPTION nvarchar(50),\n",
    "            BASE_COST float,\n",
    "            REASONCODE float,\n",
    "            REASONDESCRIPTION nvarchar(50),\n",
    "            foreign key(PATIENT) references patient(Id) \n",
    "\t\t\t)\n",
    "               ''')\n",
    "\n",
    "\n",
    "           \n"
   ]
  },
  {
   "cell_type": "code",
   "execution_count": 486,
   "id": "70726a76",
   "metadata": {
    "id": "70726a76"
   },
   "outputs": [],
   "source": [
    "# Einfügen der Daten in die erstellten Tabellen\n",
    "patient.to_sql('patient', conn, if_exists='append', index=False)\n",
    "condition.to_sql('condition', conn, if_exists='append', index=False)\n",
    "medication.to_sql('medication', conn, if_exists='append', index=False)\n",
    "observation.to_sql('observation', conn, if_exists='append', index=False)\n",
    "procedure.to_sql('procedure', conn, if_exists='append', index=False)"
   ]
  },
  {
   "cell_type": "markdown",
   "id": "052ef0c8",
   "metadata": {
    "id": "052ef0c8"
   },
   "source": [
    "# Sternschema erstellen"
   ]
  },
  {
   "cell_type": "markdown",
   "id": "6296687f",
   "metadata": {
    "id": "6296687f"
   },
   "source": [
    "Wir benötigen eine Faktentabelle für unsere Sternschema. Die Tabellen Patien und Condition werden als Dimensionstabellen genommen."
   ]
  },
  {
   "cell_type": "code",
   "execution_count": 487,
   "id": "66ee4ac4",
   "metadata": {},
   "outputs": [
    {
     "data": {
      "text/plain": [
       "array(['Coronary Heart Disease', 'Atrial Fibrillation', 'Cardiac Arrest',\n",
       "       'History of cardiac arrest (situation)', 'Stroke',\n",
       "       'Myocardial Infarction',\n",
       "       'History of myocardial infarction (situation)',\n",
       "       'Malignant neoplasm of breast (disorder)'], dtype=object)"
      ]
     },
     "execution_count": 487,
     "metadata": {},
     "output_type": "execute_result"
    }
   ],
   "source": [
    "condition['DESCRIPTION'].unique()"
   ]
  },
  {
   "cell_type": "code",
   "execution_count": 488,
   "id": "73a7362c",
   "metadata": {},
   "outputs": [
    {
     "data": {
      "text/plain": [
       "<sqlite3.Cursor at 0x7fd56e03ba40>"
      ]
     },
     "execution_count": 488,
     "metadata": {},
     "output_type": "execute_result"
    }
   ],
   "source": [
    "cursor.execute('''\n",
    "\t\tCREATE TABLE IF NOT EXISTS patient_cond(\n",
    "\t\t\tpatient_Id nvarchar(36),\n",
    "            START Date,\n",
    "            STOP Date,\n",
    "            ENCOUNTER nvarchar(50),\n",
    "            DESCRIPTION nvarchar(50),\n",
    "            CODE int,\n",
    "            foreign key(patient_Id) references patient(Id) \n",
    "\t\t\t)\n",
    "             ''')"
   ]
  },
  {
   "cell_type": "code",
   "execution_count": 489,
   "id": "37216db9",
   "metadata": {
    "colab": {
     "base_uri": "https://localhost:8080/"
    },
    "id": "37216db9",
    "outputId": "4e4537f7-fe18-4dc4-ec5a-44b97bd5db85"
   },
   "outputs": [
    {
     "data": {
      "text/plain": [
       "<sqlite3.Cursor at 0x7fd56e03ba40>"
      ]
     },
     "execution_count": 489,
     "metadata": {},
     "output_type": "execute_result"
    }
   ],
   "source": [
    "cursor.execute('''\n",
    "\t\tCREATE TABLE IF NOT EXISTS patient_condition(\n",
    "\t\t\tpatient_Id nvarchar(36),\n",
    "            START Date,\n",
    "            STOP Date,\n",
    "            ENCOUNTER nvarchar(50),\n",
    "            DESCRIPTION nvarchar(50),\n",
    "            CODE int,\n",
    "            foreign key(patient_Id) references patient(Id) \n",
    "\t\t\t)\n",
    "             ''')\n",
    "\n",
    "# Faktentabelle in \n",
    "cursor.execute('''\n",
    "\t\tCREATE TABLE IF NOT EXISTS patient_careplan (\n",
    "            CAREPLANT_ID INTEGER PRIMARY KEY AUTOINCREMENT,\n",
    "\t\t\tPATIENT_ID nvarchar(36),\n",
    "            condition_START Date,\n",
    "            condition_STOP Date,\n",
    "            condition_ENCOUNTER nvarchar(50),\n",
    "            condition_DESCRIPTION nvarchar(50),\n",
    "            condition_CODE int,\n",
    "            CARE_TYPE nvarchar(20),\n",
    "            DESCRIPTION nvarchar(50),\n",
    "            RESON nvarchar(50),\n",
    "            ENCOUNTER nvarchar(50),\n",
    "            DATE Date,\n",
    "            foreign key(PATIENT_ID) references patient(Id) \n",
    "\t\t\t)\n",
    "             ''')  "
   ]
  },
  {
   "cell_type": "code",
   "execution_count": 490,
   "id": "dc445aa0",
   "metadata": {},
   "outputs": [
    {
     "data": {
      "text/plain": [
       "<sqlite3.Cursor at 0x7fd56e03ba40>"
      ]
     },
     "execution_count": 490,
     "metadata": {},
     "output_type": "execute_result"
    }
   ],
   "source": [
    "cursor.execute('''\n",
    "    INSERT INTO patient_condition(patient_Id, START, STOP, ENCOUNTER,DESCRIPTION, CODE)\n",
    "    SELECT Id, START, STOP, ENCOUNTER, DESCRIPTION, CODE\n",
    "    FROM patient\n",
    "    LEFT JOIN condition ON Id = PATIENT\n",
    "    ''')"
   ]
  },
  {
   "cell_type": "code",
   "execution_count": 491,
   "id": "90cd7def",
   "metadata": {},
   "outputs": [
    {
     "name": "stdout",
     "output_type": "stream",
     "text": [
      "                                patient_Id       START  STOP  \\\n",
      "0     009121bf-a672-8942-443e-85e18a33f766  2000-12-05  None   \n",
      "1     0103a559-910a-03df-6117-ec429eeb4ac9        None  None   \n",
      "2     01739e74-c257-d750-9c7f-3cff9513511e        None  None   \n",
      "3     01a280b3-04f1-419c-d2f7-0aebc4126365        None  None   \n",
      "4     01b18347-90d9-e2b1-b142-8252c92cef8c        None  None   \n",
      "...                                    ...         ...   ...   \n",
      "1101  fefe51c3-dd11-9321-7e1a-a98603713461        None  None   \n",
      "1102  ff464775-7c93-27c7-ac95-6bad65259f5f        None  None   \n",
      "1103  ffa3fb1e-a8a6-6558-9f2a-e4e9fc09447e        None  None   \n",
      "1104  ffef1762-984b-72e5-f3c3-c5f76fda79df        None  None   \n",
      "1105  fffc77ee-b38c-41bd-2b07-ebaca114a78e        None  None   \n",
      "\n",
      "                                 ENCOUNTER DESCRIPTION         CODE  \n",
      "0     b824148c-1547-1097-7981-77b09c7ec478      Stroke  230690007.0  \n",
      "1                                     None        None          NaN  \n",
      "2                                     None        None          NaN  \n",
      "3                                     None        None          NaN  \n",
      "4                                     None        None          NaN  \n",
      "...                                    ...         ...          ...  \n",
      "1101                                  None        None          NaN  \n",
      "1102                                  None        None          NaN  \n",
      "1103                                  None        None          NaN  \n",
      "1104                                  None        None          NaN  \n",
      "1105                                  None        None          NaN  \n",
      "\n",
      "[1106 rows x 6 columns]\n"
     ]
    }
   ],
   "source": [
    "print(pd.read_sql_query('''\n",
    "     SELECT *\n",
    "     FROM patient_condition\n",
    "     ''', conn))"
   ]
  },
  {
   "cell_type": "code",
   "execution_count": 492,
   "id": "a7c76c0a",
   "metadata": {},
   "outputs": [
    {
     "data": {
      "text/plain": [
       "<sqlite3.Cursor at 0x7fd56e03ba40>"
      ]
     },
     "execution_count": 492,
     "metadata": {},
     "output_type": "execute_result"
    }
   ],
   "source": [
    "cursor.execute('''\n",
    "    INSERT INTO patient_careplan(PATIENT_ID, condition_START, condition_STOP, condition_ENCOUNTER,condition_DESCRIPTION, condition_CODE, CARE_TYPE, DESCRIPTION, RESON, ENCOUNTER,DATE)\n",
    "    SELECT \n",
    "    patient_condition.patient_Id as PATIENT_ID, patient_condition.START as condition_START, patient_condition.STOP condition_STOP , patient_condition.ENCOUNTER as condition_ENCOUNTER, patient_condition.DESCRIPTION as condition_DESCRIPTION, patient_condition.CODE as condition_CODE,\n",
    "    'Medication' as CARE_TYPE, medication.DESCRIPTION, medication.REASONCODE as RESON, medication.ENCOUNTER, medication.START as DATE\n",
    "    FROM patient_condition \n",
    "    INNER JOIN \n",
    "    medication ON patient_condition.patient_Id = medication.PATIENT\n",
    "    \n",
    "    UNION\n",
    "    SELECT \n",
    "    patient_condition.patient_Id as PATIENT_ID, patient_condition.START as condition_START, patient_condition.STOP condition_STOP, patient_condition.ENCOUNTER as condition_ENCOUNTER, patient_condition.DESCRIPTION as condition_DESCRIPTION, patient_condition.CODE as condition_CODE,\n",
    "    'Observation' as CARE_TYPE, observation.DESCRIPTION, observation.CODE as RESON, observation.ENCOUNTER, observation.DATE\n",
    "    FROM patient_condition \n",
    "    INNER JOIN \n",
    "    observation ON patient_condition.patient_Id = observation.PATIENT\n",
    "    \n",
    "    UNION\n",
    "    SELECT \n",
    "    patient_condition.patient_Id as PATIENT_ID, patient_condition.START as condition_START, patient_condition.STOP condition_STOP , patient_condition.ENCOUNTER as condition_ENCOUNTER, patient_condition.DESCRIPTION as condition_DESCRIPTION, patient_condition.CODE as condition_CODE,\n",
    "    'Procedure' as CARE_TYPE, procedure.DESCRIPTION, procedure.REASONDESCRIPTION as RESON, procedure.ENCOUNTER, procedure.DATE\n",
    "    FROM patient_condition \n",
    "    INNER JOIN \n",
    "    procedure ON patient_condition.patient_Id = procedure.PATIENT\n",
    "    ''')"
   ]
  },
  {
   "cell_type": "code",
   "execution_count": 493,
   "id": "c0db7533",
   "metadata": {},
   "outputs": [
    {
     "name": "stdout",
     "output_type": "stream",
     "text": [
      "       CAREPLANT_ID                            PATIENT_ID condition_START  \\\n",
      "0                 1  009121bf-a672-8942-443e-85e18a33f766      2000-12-05   \n",
      "1                 2  009121bf-a672-8942-443e-85e18a33f766      2000-12-05   \n",
      "2                 3  009121bf-a672-8942-443e-85e18a33f766      2000-12-05   \n",
      "3                 4  009121bf-a672-8942-443e-85e18a33f766      2000-12-05   \n",
      "4                 5  009121bf-a672-8942-443e-85e18a33f766      2000-12-05   \n",
      "...             ...                                   ...             ...   \n",
      "35773         35774  fffc77ee-b38c-41bd-2b07-ebaca114a78e            None   \n",
      "35774         35775  fffc77ee-b38c-41bd-2b07-ebaca114a78e            None   \n",
      "35775         35776  fffc77ee-b38c-41bd-2b07-ebaca114a78e            None   \n",
      "35776         35777  fffc77ee-b38c-41bd-2b07-ebaca114a78e            None   \n",
      "35777         35778  fffc77ee-b38c-41bd-2b07-ebaca114a78e            None   \n",
      "\n",
      "      condition_STOP                   condition_ENCOUNTER  \\\n",
      "0               None  b824148c-1547-1097-7981-77b09c7ec478   \n",
      "1               None  b824148c-1547-1097-7981-77b09c7ec478   \n",
      "2               None  b824148c-1547-1097-7981-77b09c7ec478   \n",
      "3               None  b824148c-1547-1097-7981-77b09c7ec478   \n",
      "4               None  b824148c-1547-1097-7981-77b09c7ec478   \n",
      "...              ...                                   ...   \n",
      "35773           None                                  None   \n",
      "35774           None                                  None   \n",
      "35775           None                                  None   \n",
      "35776           None                                  None   \n",
      "35777           None                                  None   \n",
      "\n",
      "      condition_DESCRIPTION  condition_CODE    CARE_TYPE DESCRIPTION RESON  \\\n",
      "0                    Stroke     230690007.0  Observation        DALY  DALY   \n",
      "1                    Stroke     230690007.0  Observation        DALY  DALY   \n",
      "2                    Stroke     230690007.0  Observation        DALY  DALY   \n",
      "3                    Stroke     230690007.0  Observation        DALY  DALY   \n",
      "4                    Stroke     230690007.0  Observation        DALY  DALY   \n",
      "...                     ...             ...          ...         ...   ...   \n",
      "35773                  None             NaN  Observation        QOLS  QOLS   \n",
      "35774                  None             NaN  Observation        QOLS  QOLS   \n",
      "35775                  None             NaN  Observation        QOLS  QOLS   \n",
      "35776                  None             NaN  Observation        QOLS  QOLS   \n",
      "35777                  None             NaN  Observation        QOLS  QOLS   \n",
      "\n",
      "      ENCOUNTER                  DATE  \n",
      "0          None  2010-05-03T23:15:24Z  \n",
      "1          None  2011-05-03T23:15:24Z  \n",
      "2          None  2012-05-03T23:15:24Z  \n",
      "3          None  2013-05-03T23:15:24Z  \n",
      "4          None  2014-05-03T23:15:24Z  \n",
      "...         ...                   ...  \n",
      "35773      None  2016-08-26T10:58:16Z  \n",
      "35774      None  2017-08-26T10:58:16Z  \n",
      "35775      None  2018-08-26T10:58:16Z  \n",
      "35776      None  2019-08-26T10:58:16Z  \n",
      "35777      None  2020-08-26T10:58:16Z  \n",
      "\n",
      "[35778 rows x 12 columns]\n"
     ]
    }
   ],
   "source": [
    "print(pd.read_sql_query('''\n",
    "     SELECT *\n",
    "     FROM patient_careplan\n",
    "     ''', conn))"
   ]
  },
  {
   "cell_type": "code",
   "execution_count": 494,
   "id": "3285801a",
   "metadata": {},
   "outputs": [
    {
     "name": "stdout",
     "output_type": "stream",
     "text": [
      "                               PATIENT_ID   CARE_TYPE\n",
      "0    02db7f22-8617-0cf7-fa10-d820d596a81a  Medication\n",
      "1    02db7f22-8617-0cf7-fa10-d820d596a81a  Medication\n",
      "2    02db7f22-8617-0cf7-fa10-d820d596a81a  Medication\n",
      "3    02db7f22-8617-0cf7-fa10-d820d596a81a  Medication\n",
      "4    037404e1-0c87-534d-0fe2-e21ef20640f6  Medication\n",
      "..                                    ...         ...\n",
      "798  f4b7d173-38fd-e173-9242-aca2651c6b10  Medication\n",
      "799  f5a6e3b3-781d-d800-d4c3-1782e39258e8  Medication\n",
      "800  f5a6e3b3-781d-d800-d4c3-1782e39258e8  Medication\n",
      "801  f5a6e3b3-781d-d800-d4c3-1782e39258e8  Medication\n",
      "802  f5a6e3b3-781d-d800-d4c3-1782e39258e8  Medication\n",
      "\n",
      "[803 rows x 2 columns]\n"
     ]
    }
   ],
   "source": [
    "print(pd.read_sql_query('''\n",
    "     SELECT PATIENT_ID, CARE_TYPE\n",
    "     FROM patient_careplan\n",
    "     WHERE CARE_TYPE = 'Medication'\n",
    "     ''', conn))"
   ]
  },
  {
   "cell_type": "code",
   "execution_count": null,
   "id": "94ae5948",
   "metadata": {},
   "outputs": [],
   "source": [
    "#cursor.execute(\"DROP TABLE IF EXISTS patient_condition\")"
   ]
  },
  {
   "cell_type": "code",
   "execution_count": 495,
   "id": "ac2eb56a",
   "metadata": {
    "id": "ac2eb56a"
   },
   "outputs": [],
   "source": [
    "conn.close()"
   ]
  }
 ],
 "metadata": {
  "colab": {
   "include_colab_link": true,
   "name": "Copie de BreastCancer.ipynb",
   "provenance": []
  },
  "kernelspec": {
   "display_name": "Python 3",
   "language": "python",
   "name": "python3"
  },
  "language_info": {
   "codemirror_mode": {
    "name": "ipython",
    "version": 3
   },
   "file_extension": ".py",
   "mimetype": "text/x-python",
   "name": "python",
   "nbconvert_exporter": "python",
   "pygments_lexer": "ipython3",
   "version": "3.8.8"
  }
 },
 "nbformat": 4,
 "nbformat_minor": 5
}
